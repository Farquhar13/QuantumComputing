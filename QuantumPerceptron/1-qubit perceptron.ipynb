{
 "cells": [
  {
   "cell_type": "markdown",
   "metadata": {},
   "source": [
    "# A 1-qubit perceptron\n",
    "My custom perceptron algorithm on a single qubit"
   ]
  },
  {
   "cell_type": "code",
   "execution_count": 1,
   "metadata": {},
   "outputs": [],
   "source": [
    "import math\n",
    "import numpy as np\n",
    "import random\n",
    "import matplotlib.pyplot as plt\n",
    "from collections import defaultdict\n",
    "import itertools\n",
    "\n",
    "from qiskit import QuantumCircuit, ClassicalRegister, QuantumRegister\n",
    "from qiskit import execute, BasicAer, Aer\n",
    "from qiskit.tools.visualization import plot_histogram, plot_state_city, plot_bloch_multivector"
   ]
  },
  {
   "cell_type": "code",
   "execution_count": 2,
   "metadata": {},
   "outputs": [],
   "source": [
    "def k2vec(k, m=2):\n",
    "    \"\"\"\n",
    "        Parameters: \n",
    "            - k (integer) the integer number for the corresponding binary vector\n",
    "            - m (integer) the length of binary string (needed to distinguish all possibilities)\n",
    "        Returns: \n",
    "            - v (list) a binary vector correspoding to integer k \n",
    "        \n",
    "        Description: By taking a fixed total ordering of binary strings of fixed length we\n",
    "        can associate each binary vector with an integer. The integer is converted to a \n",
    "        binary string which can be used to generate unique vectors.\n",
    "    \"\"\"\n",
    "    \n",
    "    v = -1*np.ones(m)\n",
    "    binary_string = (\"{:0%db}\"%m).format(k) # convert k to an m-digit binary number\n",
    "    #print(binary_string)\n",
    "    v = list(map(lambda v, b : v**int(b), v, binary_string)) \n",
    "    \n",
    "    return np.array(v)\n",
    "\n",
    "def draw_state_vector(circ):\n",
    "    \"\"\"\n",
    "        Input: \n",
    "            - circ (qiskit.circuit.quantumcircuit.QuantumCircuit) quantum circuit \n",
    "              to be executed\n",
    "        Description:\n",
    "            - Runs the quantum circuit and prints the resulting quantum state vector \n",
    "              and draws the circuit.\n",
    "    \"\"\"\n",
    "    \n",
    "    backend = BasicAer.get_backend('statevector_simulator')\n",
    "    job = execute(circ, backend)\n",
    "    result = job.result()\n",
    "    output_state = result.get_statevector(circ, decimals=3)\n",
    "    print(\"state vector after circuit:\", output_state)\n",
    "    print(circ.draw())"
   ]
  },
  {
   "cell_type": "markdown",
   "metadata": {},
   "source": [
    "## All possible 2 bit boolean vectors with elements {-1, 1}"
   ]
  },
  {
   "cell_type": "code",
   "execution_count": 3,
   "metadata": {},
   "outputs": [
    {
     "name": "stdout",
     "output_type": "stream",
     "text": [
      "[1. 1.]\n",
      "[ 1. -1.]\n",
      "[-1.  1.]\n",
      "[-1. -1.]\n"
     ]
    }
   ],
   "source": [
    "# generate all 2-bit boolean data\n",
    "data = np.array([k2vec(i,2) for i in range(4)])\n",
    "for d in data:\n",
    "    print(d)"
   ]
  },
  {
   "cell_type": "markdown",
   "metadata": {},
   "source": [
    "## Create a dictionary with the circuits to encode the inputs and weights"
   ]
  },
  {
   "cell_type": "code",
   "execution_count": 4,
   "metadata": {},
   "outputs": [],
   "source": [
    "k_circ = {}\n",
    "vec_circ_dict = {}"
   ]
  },
  {
   "cell_type": "code",
   "execution_count": 5,
   "metadata": {},
   "outputs": [],
   "source": [
    "# encodes k=0\n",
    "q = QuantumRegister(1, 'q')\n",
    "c = ClassicalRegister(1, 'c')\n",
    "circ = QuantumCircuit(q, c)\n",
    "\n",
    "i = k2vec(0, 2)\n",
    "\n",
    "# add to dictionary\n",
    "k_circ[0] = circ\n",
    "vec_circ_dict[repr(i)] = circ"
   ]
  },
  {
   "cell_type": "code",
   "execution_count": 6,
   "metadata": {},
   "outputs": [
    {
     "name": "stdout",
     "output_type": "stream",
     "text": [
      "i: [ 1. -1.]\n",
      "state vector after circuit: [1.+0.j 0.+0.j]\n",
      "        ┌───┐\n",
      "q_0: |0>┤ Z ├\n",
      "        └───┘\n",
      " c_0: 0 ═════\n",
      "             \n"
     ]
    }
   ],
   "source": [
    "# encodes k=1\n",
    "q = QuantumRegister(1, 'q')\n",
    "c = ClassicalRegister(1, 'c')\n",
    "circ = QuantumCircuit(q, c)\n",
    "\n",
    "i = k2vec(1, 2)\n",
    "print(\"i:\", i)\n",
    "\n",
    "#circ.h(q[0]) # uncomment to see that this is the correct circuit\n",
    "circ.z(q[0])\n",
    "draw_state_vector(circ)\n",
    "\n",
    "# add to dictionary\n",
    "k_circ[1] = circ\n",
    "vec_circ_dict[repr(i)] = circ"
   ]
  },
  {
   "cell_type": "code",
   "execution_count": 7,
   "metadata": {},
   "outputs": [
    {
     "name": "stdout",
     "output_type": "stream",
     "text": [
      "i: [-1.  1.]\n",
      "state vector after circuit: [0.+0.j 1.+0.j]\n",
      "        ┌───┐┌───┐\n",
      "q_0: |0>┤ Z ├┤ X ├\n",
      "        └───┘└───┘\n",
      " c_0: 0 ══════════\n",
      "                  \n"
     ]
    }
   ],
   "source": [
    "# encodes k=2\n",
    "q = QuantumRegister(1, 'q')\n",
    "c = ClassicalRegister(1, 'c')\n",
    "circ = QuantumCircuit(q, c)\n",
    "\n",
    "i = k2vec(2, 2)\n",
    "print(\"i:\", i)\n",
    "\n",
    "#circ.h(q[0]) # uncomment to see that this is the correct circuit\n",
    "circ.z(q[0])\n",
    "circ.x(q[0])\n",
    "\n",
    "draw_state_vector(circ)\n",
    "\n",
    "\n",
    "# add to dictionary\n",
    "k_circ[2] = circ\n",
    "vec_circ_dict[repr(i)] = circ"
   ]
  },
  {
   "cell_type": "code",
   "execution_count": 8,
   "metadata": {},
   "outputs": [
    {
     "name": "stdout",
     "output_type": "stream",
     "text": [
      "i: [-1. -1.]\n",
      "state vector after circuit: [ 0.+0.j -1.+0.j]\n",
      "        ┌───┐┌───┐┌───┐\n",
      "q_0: |0>┤ Z ├┤ X ├┤ Z ├\n",
      "        └───┘└───┘└───┘\n",
      " c_0: 0 ═══════════════\n",
      "                       \n"
     ]
    }
   ],
   "source": [
    "# encodes k=3\n",
    "q = QuantumRegister(1, 'q')\n",
    "c = ClassicalRegister(1, 'c')\n",
    "circ = QuantumCircuit(q, c)\n",
    "\n",
    "i = k2vec(3, 2)\n",
    "print(\"i:\", i)\n",
    "\n",
    "#circ.h(q[0]) # uncomment to see that this is the correct circuit\n",
    "circ.z(q[0])\n",
    "circ.x(q[0])\n",
    "circ.z(q[0])\n",
    "\n",
    "draw_state_vector(circ)\n",
    "\n",
    "# add to dictionary\n",
    "k_circ[3] = circ\n",
    "vec_circ_dict[repr(i)] = circ"
   ]
  },
  {
   "cell_type": "markdown",
   "metadata": {},
   "source": [
    "## Taking the inner product\n",
    "We do this in a similar fashion to part 2. First create a superposition, then encode the inputs and weights, finally rotate the quantum state vector in such a way that the inner product information is contained in the amplitude for the |1> outcome.\n",
    "<br><br>\n",
    "One change from the previous classifier is that the ancillary qubit is no longer needed, as the inner product infromation is contained in $\\beta$ as defined below, which directly determines the probability of a |1> measurement outcome.\n",
    "\n",
    "$$\\Psi = \\alpha |0> + \\beta |1>$$\n"
   ]
  },
  {
   "cell_type": "code",
   "execution_count": 9,
   "metadata": {},
   "outputs": [],
   "source": [
    "def counts_to_output(counts, threshold=0.5):\n",
    "    # average the results of the circuit\n",
    "    if len(counts) == 1:\n",
    "        avg_counts = int([*counts][0]) # unpacking\n",
    "    else:\n",
    "        avg_counts = counts['1']/float(1024)\n",
    "\n",
    "    # Apply threshold\n",
    "    if avg_counts >= threshold:\n",
    "        output = 1\n",
    "    else:\n",
    "        output = -1\n",
    "        \n",
    "    return output\n",
    "\n",
    "def one_qubit_classifier(i, w, threshold=0.5, vec_circ_dict=vec_circ_dict, print_circ=False):\n",
    "    \"\"\"\n",
    "        Inputs:\n",
    "            - i (list) 2-dim classical input vector with elemenents {-1, 1}\n",
    "            - w (list) 2-dim classical weight vector with elemenents {-1, 1}\n",
    "            - vec_circ_dict (dictionary) keys are the vectors and the values are the circuits that\n",
    "              encode those vectors\n",
    "        Returns:\n",
    "            - counts (dictionary) the results of running the circuit\n",
    "    \"\"\"\n",
    "    \n",
    "    q = QuantumRegister(1, 'q')\n",
    "    c = ClassicalRegister(1, 'c')\n",
    "    circ = QuantumCircuit(q, c)\n",
    "\n",
    "    circ.h(q[0])\n",
    "    # encode i\n",
    "    circ += vec_circ_dict[repr(i)]\n",
    "    # encode w\n",
    "    circ += vec_circ_dict[repr(w)]\n",
    "    # rotation\n",
    "    circ.h(q[0])\n",
    "    circ.x(q[0])\n",
    "    # measure\n",
    "    circ.measure(q[0],c[0])\n",
    "    \n",
    "    if print_circ==True:\n",
    "        print(circ)\n",
    "        \n",
    "    simulator = Aer.get_backend('qasm_simulator')\n",
    "    result = execute(circ, simulator, shots=1024).result()\n",
    "    counts = result.get_counts(circ)\n",
    "\n",
    "    output = counts_to_output(counts, threshold)\n",
    "    return output"
   ]
  },
  {
   "cell_type": "code",
   "execution_count": 10,
   "metadata": {},
   "outputs": [
    {
     "name": "stdout",
     "output_type": "stream",
     "text": [
      "        ┌───┐┌───┐┌───┐┌─┐\n",
      "q_0: |0>┤ H ├┤ H ├┤ X ├┤M├\n",
      "        └───┘└───┘└───┘└╥┘\n",
      " c_0: 0 ════════════════╩═\n",
      "                          \n",
      "        ┌───┐┌───┐┌───┐┌───┐┌─┐\n",
      "q_0: |0>┤ H ├┤ Z ├┤ H ├┤ X ├┤M├\n",
      "        └───┘└───┘└───┘└───┘└╥┘\n",
      " c_0: 0 ═════════════════════╩═\n",
      "                               \n",
      "        ┌───┐┌───┐┌───┐┌───┐┌───┐┌─┐\n",
      "q_0: |0>┤ H ├┤ Z ├┤ X ├┤ H ├┤ X ├┤M├\n",
      "        └───┘└───┘└───┘└───┘└───┘└╥┘\n",
      " c_0: 0 ══════════════════════════╩═\n",
      "                                    \n",
      "        ┌───┐┌───┐┌───┐┌───┐┌───┐┌───┐┌─┐\n",
      "q_0: |0>┤ H ├┤ Z ├┤ X ├┤ Z ├┤ H ├┤ X ├┤M├\n",
      "        └───┘└───┘└───┘└───┘└───┘└───┘└╥┘\n",
      " c_0: 0 ═══════════════════════════════╩═\n",
      "                                         \n",
      "        ┌───┐┌───┐┌───┐┌───┐┌─┐\n",
      "q_0: |0>┤ H ├┤ Z ├┤ H ├┤ X ├┤M├\n",
      "        └───┘└───┘└───┘└───┘└╥┘\n",
      " c_0: 0 ═════════════════════╩═\n",
      "                               \n",
      "        ┌───┐┌───┐┌───┐┌───┐┌───┐┌─┐\n",
      "q_0: |0>┤ H ├┤ Z ├┤ Z ├┤ H ├┤ X ├┤M├\n",
      "        └───┘└───┘└───┘└───┘└───┘└╥┘\n",
      " c_0: 0 ══════════════════════════╩═\n",
      "                                    \n",
      "        ┌───┐┌───┐┌───┐┌───┐┌───┐┌───┐┌─┐\n",
      "q_0: |0>┤ H ├┤ Z ├┤ Z ├┤ X ├┤ H ├┤ X ├┤M├\n",
      "        └───┘└───┘└───┘└───┘└───┘└───┘└╥┘\n",
      " c_0: 0 ═══════════════════════════════╩═\n",
      "                                         \n",
      "        ┌───┐┌───┐┌───┐┌───┐┌───┐┌───┐┌───┐┌─┐\n",
      "q_0: |0>┤ H ├┤ Z ├┤ Z ├┤ X ├┤ Z ├┤ H ├┤ X ├┤M├\n",
      "        └───┘└───┘└───┘└───┘└───┘└───┘└───┘└╥┘\n",
      " c_0: 0 ════════════════════════════════════╩═\n",
      "                                              \n",
      "        ┌───┐┌───┐┌───┐┌───┐┌───┐┌─┐\n",
      "q_0: |0>┤ H ├┤ Z ├┤ X ├┤ H ├┤ X ├┤M├\n",
      "        └───┘└───┘└───┘└───┘└───┘└╥┘\n",
      " c_0: 0 ══════════════════════════╩═\n",
      "                                    \n",
      "        ┌───┐┌───┐┌───┐┌───┐┌───┐┌───┐┌─┐\n",
      "q_0: |0>┤ H ├┤ Z ├┤ X ├┤ Z ├┤ H ├┤ X ├┤M├\n",
      "        └───┘└───┘└───┘└───┘└───┘└───┘└╥┘\n",
      " c_0: 0 ═══════════════════════════════╩═\n",
      "                                         \n",
      "        ┌───┐┌───┐┌───┐┌───┐┌───┐┌───┐┌───┐┌─┐\n",
      "q_0: |0>┤ H ├┤ Z ├┤ X ├┤ Z ├┤ X ├┤ H ├┤ X ├┤M├\n",
      "        └───┘└───┘└───┘└───┘└───┘└───┘└───┘└╥┘\n",
      " c_0: 0 ════════════════════════════════════╩═\n",
      "                                              \n",
      "        ┌───┐┌───┐┌───┐┌───┐┌───┐┌───┐┌───┐┌───┐┌─┐\n",
      "q_0: |0>┤ H ├┤ Z ├┤ X ├┤ Z ├┤ X ├┤ Z ├┤ H ├┤ X ├┤M├\n",
      "        └───┘└───┘└───┘└───┘└───┘└───┘└───┘└───┘└╥┘\n",
      " c_0: 0 ═════════════════════════════════════════╩═\n",
      "                                                   \n",
      "        ┌───┐┌───┐┌───┐┌───┐┌───┐┌───┐┌─┐\n",
      "q_0: |0>┤ H ├┤ Z ├┤ X ├┤ Z ├┤ H ├┤ X ├┤M├\n",
      "        └───┘└───┘└───┘└───┘└───┘└───┘└╥┘\n",
      " c_0: 0 ═══════════════════════════════╩═\n",
      "                                         \n",
      "        ┌───┐┌───┐┌───┐┌───┐┌───┐┌───┐┌───┐┌─┐\n",
      "q_0: |0>┤ H ├┤ Z ├┤ X ├┤ Z ├┤ Z ├┤ H ├┤ X ├┤M├\n",
      "        └───┘└───┘└───┘└───┘└───┘└───┘└───┘└╥┘\n",
      " c_0: 0 ════════════════════════════════════╩═\n",
      "                                              \n",
      "        ┌───┐┌───┐┌───┐┌───┐┌───┐┌───┐┌───┐┌───┐┌─┐\n",
      "q_0: |0>┤ H ├┤ Z ├┤ X ├┤ Z ├┤ Z ├┤ X ├┤ H ├┤ X ├┤M├\n",
      "        └───┘└───┘└───┘└───┘└───┘└───┘└───┘└───┘└╥┘\n",
      " c_0: 0 ═════════════════════════════════════════╩═\n",
      "                                                   \n",
      "        ┌───┐┌───┐┌───┐┌───┐┌───┐┌───┐┌───┐┌───┐┌───┐┌─┐\n",
      "q_0: |0>┤ H ├┤ Z ├┤ X ├┤ Z ├┤ Z ├┤ X ├┤ Z ├┤ H ├┤ X ├┤M├\n",
      "        └───┘└───┘└───┘└───┘└───┘└───┘└───┘└───┘└───┘└╥┘\n",
      " c_0: 0 ══════════════════════════════════════════════╩═\n",
      "                                                        \n"
     ]
    }
   ],
   "source": [
    "outcomes = np.zeros((4,4))\n",
    "\n",
    "for m in range(4):\n",
    "    i = k2vec(m, 2)\n",
    "    for n in range(4):\n",
    "        w =  k2vec(n, 2)\n",
    "        outcomes[m][n]  = one_qubit_classifier(i, w, print_circ=True)"
   ]
  },
  {
   "cell_type": "code",
   "execution_count": 11,
   "metadata": {},
   "outputs": [
    {
     "name": "stdout",
     "output_type": "stream",
     "text": [
      "[[ 1. -1. -1.  1.]\n",
      " [-1.  1.  1. -1.]\n",
      " [-1.  1.  1. -1.]\n",
      " [ 1. -1. -1.  1.]]\n"
     ]
    },
    {
     "data": {
      "image/png": "[encoded data removed]",
      "text/plain": [
       "<Figure size 432x288 with 2 Axes>"
      ]
     },
     "metadata": {
      "needs_background": "light"
     },
     "output_type": "display_data"
    }
   ],
   "source": [
    "import numpy as np\n",
    "import matplotlib.pyplot as plt\n",
    "\n",
    "fig, ax = plt.subplots()\n",
    "ax.matshow(outcomes, cmap=plt.cm.Blues)\n",
    "ax.set_xlabel(\"weight\")\n",
    "ax.set_ylabel(\"input\")\n",
    "\n",
    "out_plot = ax.imshow(outcomes, cmap='Blues', interpolation='none')\n",
    "fig.colorbar(out_plot, ax=ax)\n",
    "\n",
    "#fig.savefig('one-qubit-perceptron.png')\n",
    "\n",
    "print(outcomes)"
   ]
  },
  {
   "cell_type": "markdown",
   "metadata": {},
   "source": [
    "I think the one qubit example most clearly illustrates the differences between the classical and quantum perceptron algorithm. We see the ability of quantum hardware to encode $m=2^n$ bits of classical information on m qubits. We also see how this algorithm does not make the distinction between a pattern and it's negative due to the insiginficance of global phase ($\\psi = -\\psi$). This is an oddity, but may come in handy in learning the infamous boolean XOR data set."
   ]
  },
  {
   "cell_type": "markdown",
   "metadata": {},
   "source": [
    "# Learning\n",
    "## Generate labels\n",
    "Let's generate data for the Boolean XOR function.\n",
    "\n",
    "| input | XOR |\n",
    "| -- | -- |\n",
    "| 00  | 0 |\n",
    "| 01 | 1 |\n",
    "| 10 | 1 |\n",
    "| 11 | 0 |\n",
    "\n",
    "I'll consider XOR output of '1' to be a positive label (1) and XOR output of '0' to be a negative label (-1)"
   ]
  },
  {
   "cell_type": "code",
   "execution_count": 12,
   "metadata": {},
   "outputs": [
    {
     "name": "stdout",
     "output_type": "stream",
     "text": [
      "Data:\n",
      "[1. 1.]\n",
      "[ 1. -1.]\n",
      "[-1.  1.]\n",
      "[-1. -1.]\n"
     ]
    }
   ],
   "source": [
    "XOR_labels = [-1, 1, 1, -1]\n",
    "print(\"Data:\")\n",
    "for d in data:\n",
    "    print(d)"
   ]
  },
  {
   "cell_type": "markdown",
   "metadata": {},
   "source": [
    "## Training "
   ]
  },
  {
   "cell_type": "code",
   "execution_count": 13,
   "metadata": {},
   "outputs": [],
   "source": [
    "def one_qubit_train(data, labels, vec_circ_dict=vec_circ_dict, \n",
    "                    threshold=0.5, lp=0.5, ln=0.5, max_iter=25):\n",
    "    # Initialize a random w\n",
    "    w = np.array(random.choices([-1.0,1.0], k=int(math.log(len(labels), 2)))) # k is classical dim\n",
    "\n",
    "    #print('starting w:', w)\n",
    "    epochs = 1\n",
    "    while True:\n",
    "        m = 0\n",
    "        for d_idx, d in enumerate(data):\n",
    "            i = d\n",
    "            \n",
    "            # Get output from classification circuit\n",
    "            output = one_qubit_classifier(i, w)\n",
    "\n",
    "            # Check for misclassification\n",
    "            if np.sign(output) != np.sign(labels[d_idx]):\n",
    "                m += 1\n",
    "                # case when classified positive (activated) but should be negative\n",
    "                if np.sign(output) > 0:\n",
    "                    same_idx = [i for i, z in enumerate(zip(i,w)) if z[0] == z[1]]\n",
    "                    # randomly select elements to switch signs\n",
    "                    if len(same_idx) > len(w)*ln:\n",
    "                        random.shuffle(same_idx)\n",
    "                        same_idx = same_idx[:int(len(w)*ln)]\n",
    "                    # change signs of w\n",
    "                    w[same_idx] *= -1\n",
    "\n",
    "                # case when classified negative but should be positive\n",
    "                else:\n",
    "                    diff_idx = [i for i, z in enumerate(zip(i,w)) if z[0] != z[1]]\n",
    "                    # randomly select elements to switch signs\n",
    "                    if len(diff_idx) > len(w)*lp:\n",
    "                        random.shuffle(diff_idx)\n",
    "                        diff_idx = diff_idx[:int(len(w)*lp)]\n",
    "                    # change signs of w\n",
    "                    w[diff_idx] *= -1\n",
    "                #print(\"w:\", w)\n",
    "            \n",
    "        if m == 0:\n",
    "            #print(\"converged in {} epochs\".format(epochs))\n",
    "            #print(\"w:\", w)\n",
    "            break\n",
    "        elif epochs == max_iter:\n",
    "            print(\"Not converging\")\n",
    "            print(\"w:\", w)\n",
    "            break\n",
    "        else:\n",
    "            epochs += 1\n",
    "    \n",
    "    return w"
   ]
  },
  {
   "cell_type": "markdown",
   "metadata": {},
   "source": [
    "changed the call to one_qubit_classifier() to be integers not vectors. Need to change to a a and make a k2vec_dic"
   ]
  },
  {
   "cell_type": "code",
   "execution_count": 14,
   "metadata": {},
   "outputs": [],
   "source": [
    "XOR_weight = one_qubit_train(data, XOR_labels)"
   ]
  },
  {
   "cell_type": "markdown",
   "metadata": {},
   "source": [
    "## Inference"
   ]
  },
  {
   "cell_type": "code",
   "execution_count": 15,
   "metadata": {},
   "outputs": [],
   "source": [
    "def predict(data, weights, classifier=one_qubit_classifier):\n",
    "    preds = []\n",
    "    for d in data:\n",
    "        # Get the average of the results of running the circuit\n",
    "        preds.append(one_qubit_classifier(d, weights))\n",
    "\n",
    "    return preds"
   ]
  },
  {
   "cell_type": "code",
   "execution_count": 16,
   "metadata": {},
   "outputs": [
    {
     "name": "stdout",
     "output_type": "stream",
     "text": [
      "[-1, 1, 1, -1]\n"
     ]
    }
   ],
   "source": [
    "predictions = predict(data, XOR_weight)\n",
    "print(predictions)"
   ]
  },
  {
   "cell_type": "markdown",
   "metadata": {},
   "source": [
    "## Results of running the quantum classifier trained on XOR data set\n",
    "Plotting our data and coloring the points red if the results of the classifier puts them in the negative class and blue for the positive class."
   ]
  },
  {
   "cell_type": "code",
   "execution_count": 17,
   "metadata": {},
   "outputs": [
    {
     "data": {
      "text/plain": [
       "Text(0.5, 1.0, 'XOR classification')"
      ]
     },
     "execution_count": 17,
     "metadata": {},
     "output_type": "execute_result"
    },
    {
     "data": {
      "image/png": "[encoded data removed]",
      "text/plain": [
       "<Figure size 432x288 with 1 Axes>"
      ]
     },
     "metadata": {
      "needs_background": "light"
     },
     "output_type": "display_data"
    }
   ],
   "source": [
    "x = data[:, 0]\n",
    "y = data[:, 1]\n",
    "colors = ['red' if p==-1 else 'blue' for p in predictions]\n",
    "fig, _= plt.subplots()\n",
    "plt.scatter(x, y, c=colors)\n",
    "plt.title(\"XOR classification\")\n",
    "#fig.savefig('one-qubit-XOR.png')"
   ]
  },
  {
   "cell_type": "markdown",
   "metadata": {},
   "source": [
    "## Global phase and the encoding scheme\n",
    "Our particulary quantum encoding scheme does map one-to-one from classical vectors to quantum state vectors; however, two quantum vectors are considered physically indistinguishable from each other if they only differ by a consant ($|c|^2=1$), called global phase. This actually comes in hany in our classification of the XOR data and leads to two possible weight vectors for the data. "
   ]
  },
  {
   "cell_type": "code",
   "execution_count": 18,
   "metadata": {
    "scrolled": true
   },
   "outputs": [
    {
     "name": "stdout",
     "output_type": "stream",
     "text": [
      "defaultdict(<function sample.<locals>.<lambda> at 0x7facc44b9158>, {'array([ 1., -1.])': 62, 'array([-1.,  1.])': 38})\n"
     ]
    }
   ],
   "source": [
    "def sample(data, labels, train=one_qubit_train, n=100):\n",
    "    d = {} \n",
    "    d = defaultdict(lambda:0,d)\n",
    "    for i in range(n):\n",
    "        d[repr(train(data, labels))] += 1\n",
    "    return d\n",
    "\n",
    "d_XOR =sample(data, XOR_labels)\n",
    "print(d_XOR)"
   ]
  },
  {
   "cell_type": "code",
   "execution_count": 19,
   "metadata": {},
   "outputs": [],
   "source": [
    "def print_weights(sample_dict, title=\"\", save=False):\n",
    "    all_strings = ['array([1., 1.])', 'array([ 1., -1.])', 'array([-1.,  1.])', 'array([-1., -1.])']\n",
    "    key_strings = [k[6:-1] for k in all_strings]\n",
    "    weight_counts = [0,0,0,0]\n",
    "    \n",
    "    for key in sample_dict.keys():\n",
    "        idx = all_strings.index(key)\n",
    "        weight_counts[idx] = sample_dict[key]\n",
    "\n",
    "    fig, _ = plt.subplots()\n",
    "    plt.bar([0, 1, 2, 3], weight_counts)\n",
    "    plt.xticks([0, 1, 2, 3], key_strings)\n",
    "    plt.title(title)\n",
    "    if save==True:\n",
    "        fig.savefig(title + '.png')"
   ]
  },
  {
   "cell_type": "code",
   "execution_count": 20,
   "metadata": {
    "scrolled": true
   },
   "outputs": [
    {
     "data": {
      "image/png": "[encoded data removed]",
      "text/plain": [
       "<Figure size 432x288 with 1 Axes>"
      ]
     },
     "metadata": {
      "needs_background": "light"
     },
     "output_type": "display_data"
    }
   ],
   "source": [
    "print_weights(d_XOR, title=\"Learned XOR weight vectors\", save=True)\n",
    "#print_weights(d_XOR, title=\"Learned XOR weight vectors\")"
   ]
  },
  {
   "cell_type": "markdown",
   "metadata": {},
   "source": [
    "## The limits of a patern classifier\n",
    "For low dimensional data (e.g. data that can be encoded on 1 or 2 qubits) the classifier acts as if it is picking out a single input and thus the negative of that input to result in positive classification. In other words the perceptron will only be activated when the input is equal to weights (or it's negative). \n",
    "\n",
    "| input | output |\n",
    "| -- | -- |\n",
    "| 00  | 0 |\n",
    "| 01 | 0 |\n",
    "| 10 | 1 |\n",
    "| 11 | 1 |\n",
    "\n",
    "Could we learn this data?"
   ]
  },
  {
   "cell_type": "code",
   "execution_count": 21,
   "metadata": {},
   "outputs": [
    {
     "data": {
      "text/plain": [
       "Text(0.5, 1.0, 'Horizontal line data')"
      ]
     },
     "execution_count": 21,
     "metadata": {},
     "output_type": "execute_result"
    },
    {
     "data": {
      "image/png": "[encoded data removed]",
      "text/plain": [
       "<Figure size 432x288 with 1 Axes>"
      ]
     },
     "metadata": {
      "needs_background": "light"
     },
     "output_type": "display_data"
    }
   ],
   "source": [
    "limit_labels = np.array([-1, -1, 1, 1])\n",
    "\n",
    "x = data[:, 0]\n",
    "y = data[:, 1]\n",
    "colors = ['red' if l==-1 else 'blue' for l in limit_labels]\n",
    "fig, _= plt.subplots()\n",
    "plt.scatter(x, y, c=colors)\n",
    "plt.title(\"Horizontal line data\")\n",
    "#fig.savefig('Horizontal line data.png')"
   ]
  },
  {
   "cell_type": "markdown",
   "metadata": {},
   "source": [
    "Can we learn this?"
   ]
  },
  {
   "cell_type": "code",
   "execution_count": 22,
   "metadata": {},
   "outputs": [
    {
     "name": "stdout",
     "output_type": "stream",
     "text": [
      "Not converging\n",
      "w: [-1. -1.]\n"
     ]
    }
   ],
   "source": [
    "limit_weight = one_qubit_train(data, limit_labels)"
   ]
  },
  {
   "cell_type": "markdown",
   "metadata": {},
   "source": [
    "The 1-qubit classifier cannot activate for both of the positive labeled inputs (see the figure showing all possible outcomes), thus we cannot learn this function."
   ]
  },
  {
   "cell_type": "markdown",
   "metadata": {},
   "source": [
    "## What about boolean AND\n",
    "Let's generate data for the Boolean AND function.\n",
    "\n",
    "| input | AND |\n",
    "| -- | -- |\n",
    "| 00  | 0 |\n",
    "| 01 | 0 |\n",
    "| 10 | 0 |\n",
    "| 11 | 1 |\n",
    "\n",
    "I'll consider AND output of '1' to be a positive label (1) and AND output of '0' to be a negative label (-1)"
   ]
  },
  {
   "cell_type": "code",
   "execution_count": 23,
   "metadata": {},
   "outputs": [
    {
     "data": {
      "text/plain": [
       "Text(0.5, 1.0, 'AND data')"
      ]
     },
     "execution_count": 23,
     "metadata": {},
     "output_type": "execute_result"
    },
    {
     "data": {
      "image/png": "[encoded data removed]",
      "text/plain": [
       "<Figure size 432x288 with 1 Axes>"
      ]
     },
     "metadata": {
      "needs_background": "light"
     },
     "output_type": "display_data"
    }
   ],
   "source": [
    "AND_labels = np.array([-1, -1, -1, 1])\n",
    "\n",
    "x = data[:, 0]\n",
    "y = data[:, 1]\n",
    "colors = ['red' if l==-1 else 'blue' for l in AND_labels]\n",
    "fig, _= plt.subplots()\n",
    "plt.scatter(x, y, c=colors)\n",
    "plt.title(\"AND data\")\n",
    "#fig.savefig('Horizontal line data.png')"
   ]
  },
  {
   "cell_type": "markdown",
   "metadata": {},
   "source": [
    "What about learning this?"
   ]
  },
  {
   "cell_type": "code",
   "execution_count": 24,
   "metadata": {},
   "outputs": [
    {
     "name": "stdout",
     "output_type": "stream",
     "text": [
      "Not converging\n",
      "w: [-1. -1.]\n"
     ]
    }
   ],
   "source": [
    "AND_weight = one_qubit_train(data, AND_labels)"
   ]
  },
  {
   "cell_type": "markdown",
   "metadata": {},
   "source": [
    "Again. This function does correspond to a possible output of the perceptron. However, below I propose a modified training algorithm that does converge for the boolean AND function, and gives the weight output exactly equal to the postively labeled input (and $\\textbf{not the negative}$). "
   ]
  },
  {
   "cell_type": "markdown",
   "metadata": {},
   "source": [
    "# A modified training algorithm\n",
    "Due to global phase, the algorithm cannot learn the AND data set. It cannot classify as an input of [-1,-1] ([1,1]) as positive without also classifying [1,1] ([0,0]) as positive.\n",
    "<br><br>\n",
    "Here, I propose the a modification to the training algorithm to learn the \"correct\" weights, the weights you would expect a classical percpetron to learn.\n",
    "<br><br>\n",
    "This algorithm gives the weight vector one would expect in the classical version of the algorithm, and can be used when an input and it's negative have different labels. It can also be used in cases when one does not wants only a specific weight vector, and does not want the negative of a desired weight vector to be returned. \n",
    "<br><br>\n",
    "The algorithm:\n",
    "- First, for each positively labeled data, find the negative data. \n",
    "- If the negative data is not also positively labeled, add it to a list of negative labels\n",
    "- Initialize a boolean variable full_loop=False, this serves as a second misclassification check\n",
    "- Training:\n",
    "    - Loop through all data\n",
    "    - In the training procedure, if an example is misclassified and does not belong to the list of negative labels, adjust the weights and increment the misclassification counter and set the boolean variable full_loop=False\n",
    "    - if an example is misclassified and DOES belong to the list of negative labels, adjust the weights but do NOT increment the misclassification counter\n",
    "    - At the end of an epoch (training loop) \n",
    "        - if m>0 repeat Training\n",
    "        - if m=0 and full_loop=False set full_loop=True and repeat Training \n",
    "        - if m=0 and full_loop=True return the learned weights"
   ]
  },
  {
   "cell_type": "code",
   "execution_count": 25,
   "metadata": {},
   "outputs": [],
   "source": [
    "def find_neg_labels(data, labels):\n",
    "    pos_data = [data[i] for i,l in enumerate(labels) if l == 1]\n",
    "    neg_pattern_neg_label = []\n",
    "    for p in pos_data:\n",
    "        neg_data = -1*p\n",
    "        if neg_data in data:\n",
    "            neg_idx = [i for i, x in enumerate(data) if np.array_equal(x, neg_data)]\n",
    "            for idx in neg_idx:\n",
    "                if labels[idx] != 1:\n",
    "                    neg_pattern_neg_label.append(idx)\n",
    "                \n",
    "    #print(pos_data)\n",
    "    return neg_pattern_neg_label\n",
    "\n",
    "def modified_train(data, labels, neg_labels=[],vec_circ_dict=vec_circ_dict, \n",
    "                   threshold=0.5, lp=0.5, ln=0.5, max_iter=25):\n",
    "    # Initialize a random w\n",
    "    w = np.array(random.choices([-1.0,1.0], k=int(math.log(len(labels), 2)))) # k is classical dim\n",
    "\n",
    "    full_loop = False\n",
    "    epochs = 1\n",
    "    while True:\n",
    "        m = 0\n",
    "        for d_idx, d in enumerate(data):\n",
    "            i = d\n",
    "            \n",
    "            # Get output from classification circuit\n",
    "            output = one_qubit_classifier(i, w)\n",
    "\n",
    "            # Check for misclassification\n",
    "            if np.sign(output) != np.sign(labels[d_idx]):\n",
    "                if d_idx not in neg_labels:\n",
    "                    m += 1\n",
    "                    full_loop = False\n",
    "                    \n",
    "                # case when classified positive (activated) but should be negative\n",
    "                if np.sign(output) > 0:\n",
    "                    same_idx = [i for i, z in enumerate(zip(i,w)) if z[0] == z[1]]\n",
    "                    # randomly select elements to switch signs\n",
    "                    if len(same_idx) > len(w)*ln:\n",
    "                        random.shuffle(same_idx)\n",
    "                        same_idx = same_idx[:int(len(w)*ln)]\n",
    "                    # change signs of w\n",
    "                    w[same_idx] *= -1\n",
    "\n",
    "                # case when classified negative but should be positive\n",
    "                else:\n",
    "                    diff_idx = [i for i, z in enumerate(zip(i,w)) if z[0] != z[1]]\n",
    "                    # randomly select elements to switch signs\n",
    "                    if len(diff_idx) > len(w)*lp:\n",
    "                        random.shuffle(diff_idx)\n",
    "                        diff_idx = diff_idx[:int(len(w)*lp)]\n",
    "                    # change signs of w\n",
    "                    w[diff_idx] *= -1\n",
    "                #print(\"w:\", w)\n",
    "            \n",
    "        if m == 0:\n",
    "            if full_loop == False:\n",
    "                full_loop = True\n",
    "            else:\n",
    "                #print(\"converged in {} epochs\".format(epochs))\n",
    "                #print(\"w:\", w)\n",
    "                break\n",
    "        elif epochs == max_iter:\n",
    "            print(\"Not converging\")\n",
    "            print(\"w:\", w)\n",
    "            break\n",
    "        else:\n",
    "            epochs += 1\n",
    "    \n",
    "    return w\n",
    "\n",
    "def modified_sample(data, labels, neg_labels, train=modified_train, n=100):\n",
    "    d = {} \n",
    "    d = defaultdict(lambda: 0, d) # set initial values to 0\n",
    "    for i in range(n):\n",
    "        d[repr(train(data, labels, neg_labels))] += 1\n",
    "    return d"
   ]
  },
  {
   "cell_type": "code",
   "execution_count": 26,
   "metadata": {},
   "outputs": [
    {
     "name": "stdout",
     "output_type": "stream",
     "text": [
      "data\n",
      " [[ 1.  1.]\n",
      " [ 1. -1.]\n",
      " [-1.  1.]\n",
      " [-1. -1.]]\n",
      "labels [-1 -1 -1  1]\n"
     ]
    }
   ],
   "source": [
    "AND_labels = np.array([-1, -1, -1, 1])\n",
    "print(\"data\\n\", data)\n",
    "print(\"labels\", AND_labels)"
   ]
  },
  {
   "cell_type": "code",
   "execution_count": 27,
   "metadata": {},
   "outputs": [
    {
     "name": "stdout",
     "output_type": "stream",
     "text": [
      "[1 3 2 0]\n",
      "data\n",
      " [[ 1. -1.]\n",
      " [-1. -1.]\n",
      " [-1.  1.]\n",
      " [ 1.  1.]]\n",
      "labels [-1  1 -1 -1]\n"
     ]
    }
   ],
   "source": [
    "# shuffle data\n",
    "AND_labels = np.array([-1, -1, -1, 1])\n",
    "indices = np.arange(len(AND_labels))\n",
    "np.random.shuffle(indices)\n",
    "\n",
    "print(indices)\n",
    "shuffle_data = data[indices]\n",
    "AND_labels = AND_labels[indices]\n",
    "print(\"data\\n\", shuffle_data)\n",
    "print(\"labels\", AND_labels)"
   ]
  },
  {
   "cell_type": "code",
   "execution_count": 28,
   "metadata": {},
   "outputs": [],
   "source": [
    "neg_labels = find_neg_labels(shuffle_data, AND_labels)\n",
    "AND_weight = modified_train(shuffle_data, AND_labels, neg_labels)"
   ]
  },
  {
   "cell_type": "code",
   "execution_count": 29,
   "metadata": {},
   "outputs": [
    {
     "data": {
      "image/png": "[encoded data removed]",
      "text/plain": [
       "<Figure size 432x288 with 1 Axes>"
      ]
     },
     "metadata": {
      "needs_background": "light"
     },
     "output_type": "display_data"
    }
   ],
   "source": [
    "d_AND = modified_sample(shuffle_data, AND_labels, neg_labels, train=modified_train, n=100)\n",
    "#print_weights(d_AND, title=\"Learned AND weight vectors using modified training algorithm\", save=True)\n",
    "print_weights(d_AND, title=\"Learned AND weight vectors using modified training algorithm\")"
   ]
  },
  {
   "cell_type": "markdown",
   "metadata": {},
   "source": [
    "We can see that the modified training algorithm does converge for the boolean AND data set and converges to the weight you would expect the a classical version of the algorithm to do so. However, it should be noted that using this weights for classification in the quantum circuit would cause an activation for inputs that are negative to the weight vector, in this case the [1, 1] vector, which is not true to the boolean AND.\n",
    "<br><br>\n",
    "This algorithm may be seen a way to control the outcomes of training when one cares about global phase. Furthermore, if one wanted to use the quantum perceptron algorithm to learn weights, and then used the learned weights for future classificaion in using a classical algorithm, it would give the desired results. Hypothetically, this might occur if there was a speed-up available in using the quantum version of the algorithm for training.    "
   ]
  },
  {
   "cell_type": "markdown",
   "metadata": {},
   "source": [
    "### Further verification of the algorithm\n",
    "First, I'll show that the algorithm is invaraint to the order of the data by testing the algorithm on all permutations of training data order."
   ]
  },
  {
   "cell_type": "code",
   "execution_count": 30,
   "metadata": {},
   "outputs": [
    {
     "name": "stdout",
     "output_type": "stream",
     "text": [
      "(0, 1, 2, 3)\n",
      "(0, 1, 3, 2)\n",
      "(0, 2, 1, 3)\n",
      "(0, 2, 3, 1)\n",
      "(0, 3, 1, 2)\n",
      "(0, 3, 2, 1)\n",
      "(1, 0, 2, 3)\n",
      "(1, 0, 3, 2)\n",
      "(1, 2, 0, 3)\n",
      "(1, 2, 3, 0)\n",
      "(1, 3, 0, 2)\n",
      "(1, 3, 2, 0)\n",
      "(2, 0, 1, 3)\n",
      "(2, 0, 3, 1)\n",
      "(2, 1, 0, 3)\n",
      "(2, 1, 3, 0)\n",
      "(2, 3, 0, 1)\n",
      "(2, 3, 1, 0)\n",
      "(3, 0, 1, 2)\n",
      "(3, 0, 2, 1)\n",
      "(3, 1, 0, 2)\n",
      "(3, 1, 2, 0)\n",
      "(3, 2, 0, 1)\n",
      "(3, 2, 1, 0)\n",
      "Algorithm is invariant to the order of data!\n"
     ]
    }
   ],
   "source": [
    "indices = np.arange(len(AND_labels))\n",
    "orderings = list(itertools.permutations(indices))\n",
    "\n",
    "AND_labels = np.array([-1, -1, -1, 1])\n",
    "data = np.array([k2vec(i,2) for i in range(4)])\n",
    "\n",
    "\n",
    "for o in orderings:\n",
    "    print(o)\n",
    "    o = np.array(o)\n",
    "    order_labels = AND_labels[o]\n",
    "    order_data = data[o]\n",
    "    \n",
    "    neg_labels = find_neg_labels(order_data, order_labels)\n",
    "    d_AND = modified_sample(order_data, order_labels, neg_labels, train=modified_train, n=3)\n",
    "    errors = 0\n",
    "    if d_AND['array([-1., -1.])'] != 3:\n",
    "        errors += 1\n",
    "        print(\"error on permutation\", o)\n",
    "        \n",
    "if errors == 0:\n",
    "    print(\"Algorithm is invariant to the order of data!\")"
   ]
  },
  {
   "cell_type": "markdown",
   "metadata": {},
   "source": [
    "Now I will show that the selective training algorithm works for all data with one positive label"
   ]
  },
  {
   "cell_type": "code",
   "execution_count": 31,
   "metadata": {},
   "outputs": [
    {
     "data": {
      "image/png": "[encoded data removed]",
      "text/plain": [
       "<Figure size 432x288 with 1 Axes>"
      ]
     },
     "metadata": {
      "needs_background": "light"
     },
     "output_type": "display_data"
    }
   ],
   "source": [
    "one_labels = np.array([1, -1, -1, -1])\n",
    "neg_labels = find_neg_labels(data, one_labels)\n",
    "d_one = modified_sample(data, one_labels, neg_labels, train=modified_train, n=50)\n",
    "#print_weights(d_one, title=\"Learned ONE weight vectors using modified training algorithm\", save=True)\n",
    "print_weights(d_one, title=\"Learned ONE weight vectors using modified training algorithm\")"
   ]
  },
  {
   "cell_type": "code",
   "execution_count": 32,
   "metadata": {
    "scrolled": true
   },
   "outputs": [
    {
     "data": {
      "image/png": "[encoded data removed]",
      "text/plain": [
       "<Figure size 432x288 with 1 Axes>"
      ]
     },
     "metadata": {
      "needs_background": "light"
     },
     "output_type": "display_data"
    }
   ],
   "source": [
    "two_labels = np.array([-1, 1, -1, -1])\n",
    "neg_labels = find_neg_labels(data, two_labels)\n",
    "d_two = modified_sample(data, two_labels, neg_labels, train=modified_train, n=50)\n",
    "#print_weights(d_two, title=\"Learned TWO weight vectors using modified training algorithm\", save=True)\n",
    "print_weights(d_two, title=\"Learned TWO weight vectors using modified training algorithm\")"
   ]
  },
  {
   "cell_type": "code",
   "execution_count": 33,
   "metadata": {},
   "outputs": [
    {
     "data": {
      "image/png": "[encoded data removed]",
      "text/plain": [
       "<Figure size 432x288 with 1 Axes>"
      ]
     },
     "metadata": {
      "needs_background": "light"
     },
     "output_type": "display_data"
    }
   ],
   "source": [
    "three_labels = np.array([-1, -1, 1, -1])\n",
    "neg_labels = find_neg_labels(data, three_labels)\n",
    "d_three = modified_sample(data, three_labels, neg_labels, train=modified_train, n=50)\n",
    "#print_weights(d_three, title=\"Learned THREE weight vectors using modified training algorithm\", save=True)\n",
    "print_weights(d_three, title=\"Learned THREE weight vectors using modified training algorithm\")"
   ]
  },
  {
   "cell_type": "code",
   "execution_count": 34,
   "metadata": {
    "scrolled": true
   },
   "outputs": [
    {
     "data": {
      "image/png": "[encoded data removed]",
      "text/plain": [
       "<Figure size 432x288 with 1 Axes>"
      ]
     },
     "metadata": {
      "needs_background": "light"
     },
     "output_type": "display_data"
    }
   ],
   "source": [
    "AND_labels = np.array([-1, -1, -1, 1])\n",
    "neg_labels = find_neg_labels(data, AND_labels)\n",
    "d_AND = modified_sample(data, AND_labels, neg_labels, train=modified_train, n=50)\n",
    "#print_weights(d_AND, title=\"Learned AND weight vectors using modified training algorithm\", save=True)\n",
    "print_weights(d_AND, title=\"Learned AND weight vectors using modified training algorithm\")"
   ]
  },
  {
   "cell_type": "code",
   "execution_count": null,
   "metadata": {},
   "outputs": [],
   "source": []
  }
 ],
 "metadata": {
  "kernelspec": {
   "display_name": "Qiskit",
   "language": "python",
   "name": "qiskit"
  },
  "language_info": {
   "codemirror_mode": {
    "name": "ipython",
    "version": 3
   },
   "file_extension": ".py",
   "mimetype": "text/x-python",
   "name": "python",
   "nbconvert_exporter": "python",
   "pygments_lexer": "ipython3",
   "version": "3.6.8"
  }
 },
 "nbformat": 4,
 "nbformat_minor": 2
}
