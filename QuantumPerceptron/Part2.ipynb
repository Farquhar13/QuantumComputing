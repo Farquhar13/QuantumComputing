{
 "cells": [
  {
   "cell_type": "markdown",
   "metadata": {},
   "source": [
    "# Part 2\n",
    "## Encoding weights, finding $U_w$,  inner products, and classification"
   ]
  },
  {
   "cell_type": "markdown",
   "metadata": {},
   "source": [
    "Inspired by work by Francesco Tacchino, Chiara Macchiavello, Dario Gerace & Daniele Bajoni https://www.nature.com/articles/s41534-019-0140-4?amp%3Bcode=4cf1b507-7e23-4df0-a2a1-e82a3fe2bc4b"
   ]
  },
  {
   "cell_type": "code",
   "execution_count": 1,
   "metadata": {
    "scrolled": true
   },
   "outputs": [],
   "source": [
    "import math\n",
    "import numpy as np\n",
    "from qiskit import QuantumCircuit, ClassicalRegister, QuantumRegister\n",
    "from qiskit import execute, BasicAer, Aer\n",
    "from qiskit.tools.visualization import plot_histogram, plot_state_city, plot_bloch_multivector"
   ]
  },
  {
   "cell_type": "markdown",
   "metadata": {},
   "source": [
    "We'll again make use of the sign-flip algorithm from last time, with slight modificiations. This time, it will not begin each circuit with parallel Hadamard gates and will output 3 qubit circuits with 2 qubits plus an ancillary quibit."
   ]
  },
  {
   "cell_type": "code",
   "execution_count": 2,
   "metadata": {},
   "outputs": [],
   "source": [
    "def SF_encoder(i):\n",
    "    \"\"\"\n",
    "        Parameters:\n",
    "            - i (list) A classical binary valued {-1, 1} input vector\n",
    "        Returns:\n",
    "            - circ (qiskit.circuit.quantumcircuit.QuantumCircuit) A quantum 3 qubit circuit that \n",
    "              properly encodes the input vector i\n",
    "        Description:\n",
    "            - convert vector to binary string, or somehow generate computatinal basis vectors    \n",
    "            - Apply SF algorithm whenver there is a negative -1 in i\n",
    "            - Use -1 position to indentify corresponding computational basis, sandwich qubits\n",
    "              in the 0 state with X gates, and in-between apply a CZ\n",
    "            - Tested for 2 qubits\n",
    "    \"\"\"\n",
    "    \n",
    "    i = np.array(i)\n",
    "    d = len(i) # dimesionality of input vector\n",
    "    \n",
    "    # Validate input\n",
    "    assert math.log(d, 2)%1 == 0, \"Invalid vector length. Must be 2^N\"\n",
    "    \n",
    "    N = int(math.log(d, 2)) # number of qubits\n",
    "    \n",
    "    # Generate computational basis (standard basis) vectors with Dirac labeling\n",
    "    Dirac_vectors = [(\"{:0%db}\"%N).format(k) for k in range(d)]\n",
    "    \n",
    "    '''\n",
    "    for b in Dirac_vectors:\n",
    "        print(b)\n",
    "    '''\n",
    "    \n",
    "    # create quantum register and circuit (N+1 for the ancilla qubit)\n",
    "    q = QuantumRegister(N+1, 'q')\n",
    "    c = ClassicalRegister(1, 'c')\n",
    "    circ = QuantumCircuit(q, c)\n",
    "    \n",
    "    # removed Hadamard gates\n",
    "    \n",
    "    # Find all components with a -1 factor in i (and thus our target state vector)\n",
    "    indices = np.where(i == -1)[0]\n",
    "    if indices.size > 0:\n",
    "        for idx in indices:\n",
    "            # Need to switch qubits in the 0 state so CZ will take effect\n",
    "            for i, b in enumerate(Dirac_vectors[idx]):\n",
    "                if b == '0':\n",
    "                    circ.x(q[(N-1)-i]) # (N-1)-i is to match the qubit ordering Qiskit uses (reversed)\n",
    "                    \n",
    "            circ.cz(q[0], q[1]) # this is the only part that doesn't generalize for N!=2\n",
    "\n",
    "            # And switch the flipped qubits back\n",
    "            for i, b in enumerate(Dirac_vectors[idx]):\n",
    "                if b == '0':\n",
    "                    circ.x(q[(N-1)-i])\n",
    "            \n",
    "    return circ\n",
    "\n",
    "def k2vec(k, m=4):\n",
    "    \"\"\"\n",
    "        Parameters: \n",
    "            - k (integer) the integer number for the corresponding binary vector\n",
    "            - m (integer) the length of binary string (needed to distinguish all possibilities)\n",
    "        Returns: \n",
    "            - v (list) a binary vector correspoding to integer k \n",
    "        \n",
    "        Description: By taking a fixed total ordering of binary strings of fixed length we\n",
    "        can associate each binary vector with an integer. The integer is converted to a \n",
    "        binary string which can be used to generate unique vectors.\n",
    "    \"\"\"\n",
    "    \n",
    "    v = -1*np.ones(m)\n",
    "    binary_string = (\"{:0%db}\"%m).format(k) # convert k to an m-digit binary number\n",
    "    #print(binary_string)\n",
    "    v = list(map(lambda v, b : v**int(b), v, binary_string)) \n",
    "    \n",
    "    return v\n",
    "\n",
    "def draw_state_vector(circ):\n",
    "    \"\"\"\n",
    "        Input: \n",
    "            - circ (qiskit.circuit.quantumcircuit.QuantumCircuit) quantum circuit \n",
    "              to be executed\n",
    "        Description:\n",
    "            - Runs the quantum circuit and prints the resulting quantum state vector \n",
    "              and draws the circuit.\n",
    "    \"\"\"\n",
    "    \n",
    "    backend = BasicAer.get_backend('statevector_simulator')\n",
    "    job = execute(circ, backend)\n",
    "    result = job.result()\n",
    "    output_state = result.get_statevector(circ, decimals=3)\n",
    "    print(\"state vector after circuit:\", output_state)\n",
    "    print(circ.draw())"
   ]
  },
  {
   "cell_type": "markdown",
   "metadata": {},
   "source": [
    "## A perceptron classification circuit\n",
    "The perceptron algorithm was invented by former Cornellian Frank Rosenblatt in 1960. The perceptron is the fundamental unit of a neural network and I'll assume that you're familiar with the algorithm. Essentially, it inovles:\n",
    "1. taking an inner product between input and weight vectors\n",
    "2. applying an activation function\n",
    "3. setting a threshold for perceptron activation\n",
    "\n",
    "Using the SF_encoder function (brute-froce sign-flip) from \"Explict_Input_Encoding\" I'll create a full perceptron classifcation circuit with N=2 qubits with an extra ancillary qubit to extract the inner product information. Then I'll work backwards to describe what's going on.\n",
    "<br><br>\n",
    "Circuit for $\\vec{i} = k_3$ and $\\vec{w} = k_8$"
   ]
  },
  {
   "cell_type": "code",
   "execution_count": 3,
   "metadata": {},
   "outputs": [
    {
     "name": "stdout",
     "output_type": "stream",
     "text": [
      "state vector after circuit: [-0.5+0.j  0.5+0.j -0.5+0.j  0. +0.j  0. +0.j  0. +0.j  0. +0.j -0.5+0.j]\n",
      "             ┌───┐┌───┐   ┌───┐   ┌───┐        ┌───┐┌───┐┌───┐               »\n",
      "q_0: |0>─────┤ H ├┤ X ├─■─┤ X ├─■─┤ X ├──────■─┤ X ├┤ H ├┤ X ├───────────────»\n",
      "        ┌───┐└───┘└───┘ │ └───┘ │ └───┘┌───┐ │ └───┘└───┘└───┘┌───┐┌───┐┌───┐»\n",
      "q_1: |0>┤ H ├───────────■───────■──────┤ X ├─■────────────────┤ X ├┤ H ├┤ X ├»\n",
      "        └───┘                          └───┘                  └───┘└───┘└───┘»\n",
      "q_2: |0>─────────────────────────────────────────────────────────────────────»\n",
      "                                                                             »\n",
      " c_0: 0 ═════════════════════════════════════════════════════════════════════»\n",
      "                                                                             »\n",
      "«             \n",
      "«q_0: ──■─────\n",
      "«       │     \n",
      "«q_1: ──■─────\n",
      "«     ┌─┴─┐┌─┐\n",
      "«q_2: ┤ X ├┤M├\n",
      "«     └───┘└╥┘\n",
      "«c_0: ══════╩═\n",
      "«             \n"
     ]
    }
   ],
   "source": [
    "# perhaps change this to match 3/8 example\n",
    "# create quantum register and circuit\n",
    "q = QuantumRegister(3, 'q')\n",
    "c = ClassicalRegister(1, 'c')\n",
    "circ = QuantumCircuit(q, c)\n",
    "\n",
    "circ.h(q[0])\n",
    "circ.h(q[1])\n",
    "circ += SF_encoder(k2vec(3, 4)) + SF_encoder(k2vec(8, 4))\n",
    "circ.h(q[0])\n",
    "circ.h(q[1])\n",
    "circ.x(q[0])\n",
    "circ.x(q[1])\n",
    "circ.ccx(q[0], q[1], q[2])\n",
    "circ.measure(q[2], c[0])\n",
    "\n",
    "draw_state_vector(circ)"
   ]
  },
  {
   "cell_type": "markdown",
   "metadata": {},
   "source": [
    "## Step 0 - Start the qubits in an equal superposition\n",
    "It's ability of qubits to be in a superpostion of states that allows us to use $N$ qubits to encode a $m = 2^N$ dimensional classical vector."
   ]
  },
  {
   "cell_type": "code",
   "execution_count": 4,
   "metadata": {},
   "outputs": [
    {
     "name": "stdout",
     "output_type": "stream",
     "text": [
      "             ┌───┐\n",
      "q_0: |0>─────┤ H ├\n",
      "        ┌───┐└───┘\n",
      "q_1: |0>┤ H ├─────\n",
      "        └───┘     \n",
      "q_2: |0>──────────\n",
      "                  \n"
     ]
    }
   ],
   "source": [
    "# create a fresh quantum register and circuit\n",
    "q = QuantumRegister(3, 'q')\n",
    "superposition_circ = QuantumCircuit(q)\n",
    "\n",
    "# put the qubits in an equal superposition (not the ancilla qubit - i.e. qubit 2)\n",
    "superposition_circ.h(q[0])\n",
    "superposition_circ.h(q[1])\n",
    "print(superposition_circ)"
   ]
  },
  {
   "cell_type": "markdown",
   "metadata": {},
   "source": [
    "## Step 1 - Encode the input\n",
    "Using the Sign-Flip function from last time we will encode our input $\\vec{i} = k_3$ into the first two qubits as a quantum state vector $|\\Psi_i>$. 3 in binary is (011) which, based the procedure defined last time, results in vector input vector [1, 1, -1, -1]"
   ]
  },
  {
   "cell_type": "code",
   "execution_count": 5,
   "metadata": {},
   "outputs": [
    {
     "name": "stdout",
     "output_type": "stream",
     "text": [
      "Input vector: [1.0, 1.0, -1.0, -1.0]\n",
      "        ┌───┐   ┌───┐   \n",
      "q_0: |0>┤ X ├─■─┤ X ├─■─\n",
      "        └───┘ │ └───┘ │ \n",
      "q_1: |0>──────■───────■─\n",
      "                        \n",
      "q_2: |0>────────────────\n",
      "                        \n",
      " c_0: 0 ════════════════\n",
      "                        \n"
     ]
    }
   ],
   "source": [
    "k = 3 \n",
    "m = 4 # 2 qubits -> 4 dimensional classical vector\n",
    "\n",
    "input_vector = k2vec(k, m)\n",
    "print(\"Input vector:\", input_vector)\n",
    "\n",
    "input_circ = SF_encoder(input_vector)\n",
    "print(input_circ)"
   ]
  },
  {
   "cell_type": "markdown",
   "metadata": {},
   "source": [
    "## Step 2 - Encode the wieght vector \n",
    "After we encode the input vector in our circuit the next step is encode the weight vector. We'll use the Sign-Flip algorithm again to encode the weight vector $\\vec{w} = k_8$ into a quantum vector $\\Psi_w$."
   ]
  },
  {
   "cell_type": "code",
   "execution_count": 6,
   "metadata": {},
   "outputs": [
    {
     "name": "stdout",
     "output_type": "stream",
     "text": [
      "Weight vector: [-1.0, 1.0, 1.0, 1.0]\n",
      "             ┌───┐   ┌───┐     \n",
      "q_0: |0>─────┤ X ├─■─┤ X ├─────\n",
      "        ┌───┐└───┘ │ └───┘┌───┐\n",
      "q_1: |0>┤ X ├──────■──────┤ X ├\n",
      "        └───┘             └───┘\n",
      "q_2: |0>───────────────────────\n",
      "                               \n",
      " c_0: 0 ═══════════════════════\n",
      "                               \n"
     ]
    }
   ],
   "source": [
    "k = 8 \n",
    "m = 4 \n",
    "\n",
    "weight_vector = k2vec(k, m)\n",
    "print(\"Weight vector:\", weight_vector)\n",
    "\n",
    "weight_circ = SF_encoder(weight_vector)\n",
    "print(weight_circ)"
   ]
  },
  {
   "cell_type": "markdown",
   "metadata": {},
   "source": [
    "## Step 3 - Rotate the vectors\n",
    "We want an operator, $U_w$, that will operate on $|\\Psi_i>$ and that will take the inner product between the inputs and weights. Furthermore, we would hope that the result of $U_w|\\Psi_i>$ will allow us to actually extract the inner product information.\n",
    "<br><br>\n",
    "One way to do this is to rotate $|\\Psi_w>$ to the $|1>^{\\otimes N}$ computational basis state and rotate $|\\Psi_i>$ by the same angle. By doing this, the inner product will project the rotated $|\\Psi_i>$ onto the rotated $|\\Psi_w>$ and therefore the inner product result will be stored as the amplitude of the $|1>^{\\otimes N}$ computational basis state. \n",
    "<br><br>\n",
    "The first part of creating the $U_w$ block was to encode $|\\Psi_w>$, the second part is to rotate our vectors. "
   ]
  },
  {
   "cell_type": "code",
   "execution_count": 7,
   "metadata": {},
   "outputs": [
    {
     "name": "stdout",
     "output_type": "stream",
     "text": [
      "                  ┌───┐┌───┐\n",
      "q_0: |0>──────────┤ H ├┤ X ├\n",
      "        ┌───┐┌───┐└───┘└───┘\n",
      "q_1: |0>┤ H ├┤ X ├──────────\n",
      "        └───┘└───┘          \n",
      "q_2: |0>────────────────────\n",
      "                            \n"
     ]
    }
   ],
   "source": [
    "#q1 = QuantumRegister(3, 'q')\n",
    "rotation_circ = QuantumCircuit(q)\n",
    "\n",
    "rotation_circ.h(q[0])\n",
    "rotation_circ.h(q[1])\n",
    "rotation_circ.x(q[0])\n",
    "rotation_circ.x(q[1])\n",
    "print(rotation_circ)"
   ]
  },
  {
   "cell_type": "markdown",
   "metadata": {},
   "source": [
    "Why does the above circuit give the correct rotation? Here's the idea.\n",
    "<br><br>\n",
    "At the start of every circuit we take $|0>$ to an equal superposition state.\n",
    "$$H^{\\otimes N}|0> \\rightarrow |\\Psi_0>$$\n",
    "\n",
    "Consider when $\\vec{i} = \\vec{w}$, this should give a perfect activation of the perceptron. If $\\vec{i} = \\vec{w}$, then their quantum state vectors are also equal, $|\\Psi_i> = |\\Psi_w>$. From the equal superposition state $|\\Psi_0>$ we encode the input state $|\\Psi_i>$ with the operator $U_i$. \n",
    "$$U_i|\\Psi_0> \\rightarrow |\\Psi_i>$$\n",
    "\n",
    "When $\\vec{i} = \\vec{w}$ the operation to encode $|\\Psi_w>$ is the same as the operation to encode $|\\Psi_i>$. So, $U_i = U_w$. \n",
    "\n",
    "Becuase quantum opertions are reversible, this $U_w$ would effectively undo the effect of applying $U_i$ and take $|\\Psi_i>$ back to an equal superposition. \n",
    "$$U_w|\\Psi_i> \\rightarrow |\\Psi_0>$$ \n",
    "If $\\vec{i} \\neq \\vec{w}$, but $\\vec{i}$ and $\\vec{w}$ are similar, then the result of $U_w|\\Psi_i>$ will take still take the state to something close to $|\\Psi_0>$, so the perceptron may still be activated. \n",
    "\n",
    "Now the inner product information is stored in the $|0>^{\\otimes N}$, but we would like an activated perceptron to give an measurement outcome of '1' not '0'. To get this information to the $|1>^{\\otimes N}$ computational basis state, we apply parralel Hadamard and X gates. \n",
    "$$H^{\\otimes N}|\\Psi_0> \\rightarrow |0>^{\\otimes N}$$\n",
    "followed by \n",
    "$$X^{\\otimes N}|0>^{\\otimes N} \\rightarrow |1>^{\\otimes N}$$\n",
    "\n",
    "The measurement step, we will see that a multi-controlled-CNOT operation can aid us in extracting this information.\n"
   ]
  },
  {
   "cell_type": "markdown",
   "metadata": {},
   "source": [
    "The entire procedure:\n",
    "$$H^{\\otimes N}|0> \\rightarrow |\\Psi_0>$$\n",
    "$$U_i|\\Psi_0> \\rightarrow |\\Psi_i>$$\n",
    "$$U_w|\\Psi_i> \\rightarrow |\\Psi_0>$$\n",
    "$$H^{\\otimes N}|\\Psi_0> \\rightarrow |0>^{\\otimes N}$$\n",
    "$$X^{\\otimes N}|0>^{\\otimes N} \\rightarrow |1>^{\\otimes N}$$\n",
    "\n",
    "Note: If you'd like to think of vectors and matrices, the operation $U_w$ is created by encoding the weight vector, $\\vec{w}$, then applying a certain rotation with $H$ and $X$ gates. This creates a matrix with the encoding information of $\\vec{w}$ in the last row. A matrix vector product with $U_w$ and $|\\Psi_i>$ then leads to a vector with the inner product of $\\vec{i}$ and $\\vec{w}$ in the last entry of the resultant vector."
   ]
  },
  {
   "cell_type": "markdown",
   "metadata": {},
   "source": [
    "## Step 4 - Extract the information and measure\n",
    "As noted above, the inner product information should now be contained in the amplitude of the $|1>^{\\otimes N}$ computational basis state. We can extract this infomaton by using a multi-controlled-X gate (Tofolli gate for 3 qubits) using our first two qubits as the controls and ancillary qubit as the target. Then we measure the ancillary qubit.\n",
    "<br><br>\n",
    "A crucial part of perceptron-based algorithms is a nonlinear activation function. Measurement being a quadratic probabilistic function actually serves as an $\\textbf{activation function}$!"
   ]
  },
  {
   "cell_type": "code",
   "execution_count": 8,
   "metadata": {},
   "outputs": [
    {
     "name": "stdout",
     "output_type": "stream",
     "text": [
      "                \n",
      "q_0: |0>──■─────\n",
      "          │     \n",
      "q_1: |0>──■─────\n",
      "        ┌─┴─┐┌─┐\n",
      "q_2: |0>┤ X ├┤M├\n",
      "        └───┘└╥┘\n",
      " c_0: 0 ══════╩═\n",
      "                \n"
     ]
    }
   ],
   "source": [
    "# to measure we'll need a classical register\n",
    "c = ClassicalRegister(1, 'c')\n",
    "\n",
    "measure_circ = QuantumCircuit(q, c)\n",
    "\n",
    "# use Toffoli gate to move inner product result to the ancillary qubit\n",
    "measure_circ.ccx(q[0], q[1], q[2])\n",
    "measure_circ.measure(q[2],c[0])\n",
    "\n",
    "print(measure_circ)"
   ]
  },
  {
   "cell_type": "markdown",
   "metadata": {},
   "source": [
    "## Putting it all together!\n",
    "We can simulate our circuit by combining the pieces from above and using the stat vector and QASM simulators.\n",
    "<br><br>\n",
    "First we look at the statevector simulation, which produces the ideal (noiseless) result of running the circuit. You can then see the Bloch sphere representation of the resulting state of the qubits. We can see mostly interested in the state of the ancillary qubit, qubit-2, as that is what is measured. \n",
    "<br><br>\n",
    "For the example that we've been working with of $\\vec{i} = k_3$ and $\\vec{w} = k_8$ we would not want to the perceptron to be activated because the input and weight vectors are not very similar. For two qubits, the perceptron will only be activated when $\\vec{i} = \\vec{w}$ and it's negative $-\\vec{i} = \\vec{w}$."
   ]
  },
  {
   "cell_type": "code",
   "execution_count": 9,
   "metadata": {},
   "outputs": [
    {
     "name": "stdout",
     "output_type": "stream",
     "text": [
      "             ┌───┐┌───┐   ┌───┐   ┌───┐        ┌───┐┌───┐┌───┐               »\n",
      "q_0: |0>─────┤ H ├┤ X ├─■─┤ X ├─■─┤ X ├──────■─┤ X ├┤ H ├┤ X ├───────────────»\n",
      "        ┌───┐└───┘└───┘ │ └───┘ │ └───┘┌───┐ │ └───┘└───┘└───┘┌───┐┌───┐┌───┐»\n",
      "q_1: |0>┤ H ├───────────■───────■──────┤ X ├─■────────────────┤ X ├┤ H ├┤ X ├»\n",
      "        └───┘                          └───┘                  └───┘└───┘└───┘»\n",
      "q_2: |0>─────────────────────────────────────────────────────────────────────»\n",
      "                                                                             »\n",
      " c_0: 0 ═════════════════════════════════════════════════════════════════════»\n",
      "                                                                             »\n",
      "«             \n",
      "«q_0: ──■─────\n",
      "«       │     \n",
      "«q_1: ──■─────\n",
      "«     ┌─┴─┐┌─┐\n",
      "«q_2: ┤ X ├┤M├\n",
      "«     └───┘└╥┘\n",
      "«c_0: ══════╩═\n",
      "«             \n",
      "results: {'0': 735, '1': 265}\n"
     ]
    }
   ],
   "source": [
    "full_circ = superposition_circ + input_circ + weight_circ + rotation_circ + measure_circ\n",
    "print(full_circ)\n",
    "\n",
    "# Use Aer's qasm_simulator\n",
    "backend_sim = BasicAer.get_backend('qasm_simulator')\n",
    "# Execute the circuit on the qasm simulator.\n",
    "job_sim = execute(full_circ, backend_sim, shots=1000)\n",
    "# Grab the results from the job.\n",
    "result_sim = job_sim.result()\n",
    "\n",
    "# Results with noise\n",
    "print(\"results:\", result_sim.get_counts(full_circ))"
   ]
  },
  {
   "cell_type": "code",
   "execution_count": 10,
   "metadata": {},
   "outputs": [
    {
     "name": "stdout",
     "output_type": "stream",
     "text": [
      "results: {'0': 735, '1': 265}\n"
     ]
    }
   ],
   "source": [
    "# Use Aer's qasm_simulator\n",
    "backend_sim = BasicAer.get_backend('qasm_simulator')\n",
    "# Execute the circuit on the qasm simulator.\n",
    "job_sim = execute(full_circ, backend_sim, shots=1000)\n",
    "# Grab the results from the job.\n",
    "result_sim = job_sim.result()\n",
    "\n",
    "# Results with noise\n",
    "print(\"results:\", result_sim.get_counts(full_circ))"
   ]
  },
  {
   "cell_type": "markdown",
   "metadata": {},
   "source": [
    "Quantum computation is inherently probabilisitic. However, if we set our perceptron $\\textbf{threshold}$ properly,  we can get a perceptron that classifies as we would want. For example, by considering the collection of measurements and define a threshold that activates the perceptron if over 50% of those measurements were in the '1' state."
   ]
  },
  {
   "cell_type": "markdown",
   "metadata": {},
   "source": [
    "## Analysis of classification results\n",
    "Let's try for two more examples\n",
    "1. $\\vec{i} = \\vec{w}$ corresponding to a boolean function\n",
    "2. XOR data"
   ]
  },
  {
   "cell_type": "code",
   "execution_count": 11,
   "metadata": {},
   "outputs": [
    {
     "name": "stdout",
     "output_type": "stream",
     "text": [
      "[1.0, 1.0, -1.0, -1.0]\n",
      "state vector after circuit: [0.+0.j 0.+0.j 0.+0.j 0.+0.j 0.+0.j 0.+0.j 0.+0.j 1.-0.j]\n",
      "                  ┌───┐┌───┐   ┌───┐┌───┐             ┌───┐┌───┐   ┌───┐┌───┐»\n",
      "q_0: |0>──────────┤ H ├┤ X ├─■─┤ X ├┤ X ├──────■──────┤ X ├┤ X ├─■─┤ X ├┤ X ├»\n",
      "        ┌───┐┌───┐└───┘└───┘ │ └───┘└───┘┌───┐ │ ┌───┐└───┘└───┘ │ └───┘└───┘»\n",
      "q_1: |0>┤ H ├┤ X ├───────────■───────────┤ X ├─■─┤ X ├───────────■───────────»\n",
      "        └───┘└───┘                       └───┘   └───┘                       »\n",
      "q_2: |0>─────────────────────────────────────────────────────────────────────»\n",
      "                                                                             »\n",
      " c_0: 0 ═════════════════════════════════════════════════════════════════════»\n",
      "                                                                             »\n",
      "«                       ┌───┐┌───┐┌───┐        \n",
      "«q_0: ──────■───────────┤ X ├┤ H ├┤ X ├──■─────\n",
      "«     ┌───┐ │ ┌───┐┌───┐└───┘└───┘└───┘  │     \n",
      "«q_1: ┤ X ├─■─┤ H ├┤ X ├─────────────────■─────\n",
      "«     └───┘   └───┘└───┘               ┌─┴─┐┌─┐\n",
      "«q_2: ─────────────────────────────────┤ X ├┤M├\n",
      "«                                      └───┘└╥┘\n",
      "«c_0: ═══════════════════════════════════════╩═\n",
      "«                                              \n",
      "Measurement outcomes: {'1': 1}\n"
     ]
    }
   ],
   "source": [
    "# input vector equal to the weight vector\n",
    "k = 10\n",
    "m = 4 \n",
    "\n",
    "input10_vector = k2vec(k, m)\n",
    "print(input_vector)\n",
    "input10_circ = SF_encoder(input10_vector)\n",
    "weight10_circ = input10_circ\n",
    "\n",
    "# create quantum register and circuit\n",
    "q = QuantumRegister(3, 'q')\n",
    "circ10 = QuantumCircuit(q)\n",
    "circ10 += superposition_circ + input10_circ + weight10_circ + rotation_circ + measure_circ\n",
    "\n",
    "draw_state_vector(circ10)\n",
    "\n",
    "# Select the StatevectorSimulator from the Aer provider\n",
    "simulator = Aer.get_backend('statevector_simulator')\n",
    "result = execute(circ10, simulator).result()\n",
    "statevector = result.get_statevector(circ10)\n",
    "\n",
    "print(\"Measurement outcomes:\", result.get_counts(circ10))"
   ]
  },
  {
   "cell_type": "markdown",
   "metadata": {},
   "source": [
    "As we can see this circuit this circuit has an amplitude of 1 for the $|1>^{\\otimes{N}}$ state. Meaning that it will deterministically (without noise) give an outcome of '1', i.e. an activated perceptron!"
   ]
  },
  {
   "cell_type": "code",
   "execution_count": 12,
   "metadata": {},
   "outputs": [
    {
     "name": "stdout",
     "output_type": "stream",
     "text": [
      "input vector [1.0, -1.0, -1.0, 1.0]\n",
      "weight vector [-1.0, 1.0, 1.0, -1.0]\n",
      "                  ┌───┐   ┌───┐             ┌───┐┌───┐   ┌───┐             »\n",
      "q_0: |0>──────────┤ H ├─■─┤ X ├──────■──────┤ X ├┤ X ├─■─┤ X ├──────■──────»\n",
      "        ┌───┐┌───┐└───┘ │ └───┘┌───┐ │ ┌───┐└───┘└───┘ │ └───┘┌───┐ │ ┌───┐»\n",
      "q_1: |0>┤ H ├┤ X ├──────■──────┤ X ├─■─┤ X ├───────────■──────┤ X ├─■─┤ H ├»\n",
      "        └───┘└───┘             └───┘   └───┘                  └───┘   └───┘»\n",
      "q_2: |0>───────────────────────────────────────────────────────────────────»\n",
      "                                                                           »\n",
      " c_0: 0 ═══════════════════════════════════════════════════════════════════»\n",
      "                                                                           »\n",
      "«          ┌───┐┌───┐        \n",
      "«q_0: ─────┤ H ├┤ X ├──■─────\n",
      "«     ┌───┐└───┘└───┘  │     \n",
      "«q_1: ┤ X ├────────────■─────\n",
      "«     └───┘          ┌─┴─┐┌─┐\n",
      "«q_2: ───────────────┤ X ├┤M├\n",
      "«                    └───┘└╥┘\n",
      "«c_0: ═════════════════════╩═\n",
      "«                            \n",
      "Measurement outcomes: {'1': 1000}\n"
     ]
    }
   ],
   "source": [
    "# an XOR data set with -i = w\n",
    "print(\"input vector\", k2vec(6,4))\n",
    "print(\"weight vector\", k2vec(9,4))\n",
    "\n",
    "qx = QuantumRegister(3, 'q')\n",
    "cx = ClassicalRegister(1, 'c')\n",
    "circx = QuantumCircuit(qx, cx)\n",
    "circx += superposition_circ + SF_encoder(k2vec(6,4)) + SF_encoder(k2vec(9, 4)) + rotation_circ + measure_circ\n",
    "simulator = Aer.get_backend('qasm_simulator')\n",
    "result = execute(circx, simulator, shots=1000).result()\n",
    "counts = result.get_counts(circx)\n",
    "print(circx)\n",
    "print(\"Measurement outcomes:\", counts)"
   ]
  },
  {
   "cell_type": "markdown",
   "metadata": {},
   "source": [
    "We see that deterministically the perceptron is activated! The above result shows two interesting results of the quantum perceptron algorith. \n",
    "1. It can correctly classify non-linear data such as the boolean XOR data set. This is not possible in the classical percetpron algorithm. It is made possible due to the non-linearity induced by measuring a quantum system.\n",
    "2. The algorithm evaluates a pattern $-\\vec{i}$ and it's negatve $-\\vec{i}$ on equal footing. This is because global phase is physically insignificant in quantum systems. I.e. the distribution of measurement outcomes on $|\\Psi>$ will be equivalent the the distribution of measurement outcomes on $-|\\Psi>$."
   ]
  },
  {
   "cell_type": "markdown",
   "metadata": {},
   "source": [
    "## All pairs of inputs and weights"
   ]
  },
  {
   "cell_type": "code",
   "execution_count": 13,
   "metadata": {},
   "outputs": [],
   "source": [
    "def i_w_circuit(i, w):\n",
    "    q = QuantumRegister(3, 'q')\n",
    "    c = ClassicalRegister(1, 'c')\n",
    "    circ = QuantumCircuit(q, c)\n",
    "    \n",
    "    # superposition\n",
    "    circ.h(q[0])\n",
    "    circ.h(q[1])\n",
    "    # encode i\n",
    "    circ += SF_encoder(i)\n",
    "    # encode w\n",
    "    circ += SF_encoder(w)\n",
    "    # rotation\n",
    "    circ.h(q[0])\n",
    "    circ.h(q[1])\n",
    "    circ.x(q[0])\n",
    "    circ.x(q[1])\n",
    "    # measure\n",
    "    circ.ccx(q[0], q[1], q[2])\n",
    "    circ.measure(q[2],c[0])\n",
    "    \n",
    "    #print(circ)\n",
    "    simulator = Aer.get_backend('qasm_simulator')\n",
    "    result = execute(circ, simulator, shots=1000).result()\n",
    "    counts = result.get_counts(circ)\n",
    "    \n",
    "    return counts"
   ]
  },
  {
   "cell_type": "code",
   "execution_count": 14,
   "metadata": {},
   "outputs": [],
   "source": [
    "outcomes = np.zeros((16,16))\n",
    "for m in range(16):\n",
    "    i = k2vec(m)\n",
    "    for n in range(16):\n",
    "        w =  k2vec(n)\n",
    "        counts  = i_w_circuit(i, w)\n",
    "        #print(counts)\n",
    "        if len(counts) == 1:\n",
    "            outcomes[m][n] = int([*counts][0]) # unpacking\n",
    "        else:\n",
    "            outcomes[m][n] = counts['1']/float(1024)"
   ]
  },
  {
   "cell_type": "code",
   "execution_count": 15,
   "metadata": {},
   "outputs": [
    {
     "data": {
      "text/plain": [
       "<matplotlib.colorbar.Colorbar at 0x7fd149e05cf8>"
      ]
     },
     "execution_count": 15,
     "metadata": {},
     "output_type": "execute_result"
    },
    {
     "data": {
      "image/png": "[encoded data removed]",
      "text/plain": [
       "<Figure size 432x288 with 2 Axes>"
      ]
     },
     "metadata": {
      "needs_background": "light"
     },
     "output_type": "display_data"
    }
   ],
   "source": [
    "import numpy as np\n",
    "import matplotlib.pyplot as plt\n",
    "\n",
    "fig, ax = plt.subplots()\n",
    "#ax.matshow(outcomes, cmap=plt.cm.Blues)\n",
    "ax.set_xlabel(\"weight\")\n",
    "ax.set_ylabel(\"input\")\n",
    "\n",
    "out_plot = ax.imshow(outcomes, cmap='Blues', interpolation='none')\n",
    "fig.colorbar(out_plot, ax=ax)\n",
    "\n",
    "#fig.savefig('inputs_v_weights.png')"
   ]
  },
  {
   "cell_type": "code",
   "execution_count": null,
   "metadata": {},
   "outputs": [],
   "source": []
  }
 ],
 "metadata": {
  "kernelspec": {
   "display_name": "Qiskit",
   "language": "python",
   "name": "qiskit"
  },
  "language_info": {
   "codemirror_mode": {
    "name": "ipython",
    "version": 3
   },
   "file_extension": ".py",
   "mimetype": "text/x-python",
   "name": "python",
   "nbconvert_exporter": "python",
   "pygments_lexer": "ipython3",
   "version": "3.6.8"
  }
 },
 "nbformat": 4,
 "nbformat_minor": 2
}
