{
 "cells": [
  {
   "cell_type": "markdown",
   "metadata": {},
   "source": [
    "# Part 3\n",
    "## Learning weights (2-qubit example)\n",
    "From part 2 we have an algorithm that serves as a classifier for given inputs and weights now it's time to actually learn the proper weights for a data set.\n",
    "<br><br>\n",
    "Inspired by work by Francesco Tacchino, Chiara Macchiavello, Dario Gerace & Daniele Bajoni https://www.nature.com/articles/s41534-019-0140-4?amp%3Bcode=4cf1b507-7e23-4df0-a2a1-e82a3fe2bc4b"
   ]
  },
  {
   "cell_type": "code",
   "execution_count": 77,
   "metadata": {
    "scrolled": true
   },
   "outputs": [],
   "source": [
    "import math\n",
    "import numpy as np\n",
    "from qiskit import QuantumCircuit, ClassicalRegister, QuantumRegister\n",
    "from qiskit import execute, BasicAer, Aer\n",
    "from qiskit.tools.visualization import plot_histogram, plot_state_city, plot_bloch_multivector\n",
    "\n",
    "import numpy as np\n",
    "import matplotlib.pyplot as plt\n",
    "import random\n",
    "\n",
    "import import_ipynb\n",
    "from Part2 import SF_encoder, k2vec, draw_state_vector"
   ]
  },
  {
   "cell_type": "markdown",
   "metadata": {},
   "source": [
    "## The training procedure\n",
    "- Start with randomly initialized $\\vec{w_0}$\n",
    "- Loop through the training data, whenever a percetpron outcome is incorrect, adjust the weights\n",
    "    - If an a training example is classified as positive (activated) when it should have been negative move $\\vec{w}$ further from $\\vec{i}$ by randomingly flipping a fraction ($l_n$) of the signs where $\\vec{w}$ and $\\vec{i}$ coincide\n",
    "    - If an a training example is classified as negative when it should have been should move $\\vec{w}$ $\\textit{closer}$ to $\\vec{i}$ by randomingly flipping a fraction ($l_p$) of the signs where $\\vec{w}$ and $\\vec{i}$ $\\textit{differ}$\n",
    "- Repeat until all training data is correctly classified"
   ]
  },
  {
   "cell_type": "markdown",
   "metadata": {},
   "source": [
    "## Generate training set\n",
    "2 qubits can encode a 4-dimensional classical vector. Since we considering binary vectors, there are $2^{2^2}=16$ possible vectors that will use as our training set. We now just need to generate labels.\n",
    "<br><br>\n",
    "Some visualization code"
   ]
  },
  {
   "cell_type": "code",
   "execution_count": 2,
   "metadata": {},
   "outputs": [],
   "source": [
    "binary_labels = [(\"{:0%db}\"%4).format(i) for i in range(16)]\n",
    "#print(binary_labels)\n",
    "\n",
    "binary_matrices = []\n",
    "for b in binary_labels:\n",
    "    mat = np.array([[int(b[0]), int(b[1])], [int(b[2]), int(b[3])]])\n",
    "    binary_matrices.append(mat)\n",
    "\n",
    "binary_matrices.reverse() # reverse to match with presentation in paper"
   ]
  },
  {
   "cell_type": "markdown",
   "metadata": {},
   "source": [
    "### Generate labels\n",
    "Let's say we want to learn the pattern corresponding to $k_i = 1$ or $\\vec{i} = [1,1,1,-1]$ as depicted below."
   ]
  },
  {
   "cell_type": "code",
   "execution_count": 3,
   "metadata": {},
   "outputs": [
    {
     "data": {
      "text/plain": [
       "<matplotlib.colorbar.Colorbar at 0x7f16c46a3438>"
      ]
     },
     "execution_count": 3,
     "metadata": {},
     "output_type": "execute_result"
    },
    {
     "data": {
      "image/png": "[encoded data removed]",
      "text/plain": [
       "<Figure size 432x288 with 2 Axes>"
      ]
     },
     "metadata": {
      "needs_background": "light"
     },
     "output_type": "display_data"
    }
   ],
   "source": [
    "labels = -np.ones(16)\n",
    "labels[1] = 1\n",
    "\n",
    "# visualize k_i=1 \n",
    "fig, ax = plt.subplots()\n",
    "ax.matshow(binary_matrices[1])\n",
    "out_plot = ax.imshow(binary_matrices[1], cmap='Greys', interpolation='none')\n",
    "fig.colorbar(out_plot, ax=ax)"
   ]
  },
  {
   "cell_type": "markdown",
   "metadata": {},
   "source": [
    "Note that due to global phase, the negative of the pattern is treated as the same. So $k_i=14$ or $\\vec{i} = [-1,-1,-1,1]$ will also be given a positive label."
   ]
  },
  {
   "cell_type": "code",
   "execution_count": 11,
   "metadata": {},
   "outputs": [
    {
     "name": "stdout",
     "output_type": "stream",
     "text": [
      "lables: [-1.  1. -1. -1. -1. -1. -1. -1. -1. -1. -1. -1. -1. -1.  1. -1.]\n"
     ]
    },
    {
     "data": {
      "text/plain": [
       "<matplotlib.colorbar.Colorbar at 0x7f16c465b390>"
      ]
     },
     "execution_count": 11,
     "metadata": {},
     "output_type": "execute_result"
    },
    {
     "data": {
      "image/png": "[encoded data removed]",
      "text/plain": [
       "<Figure size 432x288 with 2 Axes>"
      ]
     },
     "metadata": {
      "needs_background": "light"
     },
     "output_type": "display_data"
    }
   ],
   "source": [
    "labels[14] = 1\n",
    "print(\"lables:\", labels)\n",
    "\n",
    "# visualize k_i=14\n",
    "fig, ax = plt.subplots()\n",
    "ax.matshow(binary_matrices[14])\n",
    "out_plot = ax.imshow(binary_matrices[14], cmap='Greys', interpolation='none')\n",
    "fig.colorbar(out_plot, ax=ax)"
   ]
  },
  {
   "cell_type": "code",
   "execution_count": 71,
   "metadata": {},
   "outputs": [],
   "source": [
    "# function to construct a quantum circuit for a given input and weight\n",
    "def i_w_circuit(i, w):\n",
    "    q = QuantumRegister(3, 'q')\n",
    "    c = ClassicalRegister(1, 'c')\n",
    "    circ = QuantumCircuit(q, c)\n",
    "    \n",
    "    # superposition\n",
    "    circ.h(q[0])\n",
    "    circ.h(q[1])\n",
    "    # encode i\n",
    "    circ += SF_encoder(i)\n",
    "    # encode w\n",
    "    circ += SF_encoder(w)\n",
    "    # rotation\n",
    "    circ.h(q[0])\n",
    "    circ.h(q[1])\n",
    "    circ.x(q[0])\n",
    "    circ.x(q[1])\n",
    "    # measure\n",
    "    circ.ccx(q[0], q[1], q[2])\n",
    "    circ.measure(q[2],c[0])\n",
    "    \n",
    "    #print(circ)\n",
    "    simulator = Aer.get_backend('qasm_simulator')\n",
    "    result = execute(circ, simulator, shots=1024).result()\n",
    "    counts = result.get_counts(circ)\n",
    "\n",
    "    return counts\n",
    "\n",
    "# Now to do training algorithm\n",
    "def train(labels, threshold=0.5, lp=0.5, ln=0.5, max_iter=50):\n",
    "    # Initialize a random w\n",
    "    w = np.array(random.choices([-1,1], k=4))\n",
    "    print(\"starting w:\", w)\n",
    "\n",
    "    epochs = 1\n",
    "    while True:\n",
    "        m = 0\n",
    "        for k_i in range(16):\n",
    "            i = k2vec(k_i)\n",
    "            \n",
    "            # Get the average of the results of running the circuit\n",
    "            counts = i_w_circuit(i,w)\n",
    "            if len(counts) == 1:\n",
    "                avg_counts = int([*counts][0]) # unpacking\n",
    "            else:\n",
    "                avg_counts = counts['1']/float(1024)\n",
    "\n",
    "            # Apply threshold\n",
    "            if avg_counts >= threshold:\n",
    "                output = 1\n",
    "            else:\n",
    "                output = -1\n",
    "\n",
    "            # Check for misclassification\n",
    "            if np.sign(output) != np.sign(labels[k_i]):\n",
    "                m += 1\n",
    "                # case when classified positive (activated) but should be negative\n",
    "                if np.sign(output) > 0:\n",
    "                    same_idx = [i for i, z in enumerate(zip(i,w)) if z[0] == z[1]]\n",
    "                    # randomly select elements to switch signs\n",
    "                    if len(same_idx) > len(w)*ln:\n",
    "                        random.shuffle(same_idx)\n",
    "                        same_idx = same_idx[:int(len(w)*ln)]\n",
    "                    # change signs of w\n",
    "                    w[same_idx] *= -1\n",
    "\n",
    "                # case when classified negative but should be positive\n",
    "                else:\n",
    "                    diff_idx = [i for i, z in enumerate(zip(i,w)) if z[0] != z[1]]\n",
    "                    # randomly select elements to switch signs\n",
    "                    if len(diff_idx) > len(w)*lp:\n",
    "                        random.shuffle(diff_idx)\n",
    "                        diff_idx = diff_idx[:int(len(w)*lp)]\n",
    "                    # change signs of w\n",
    "                    w[diff_idx] *= -1\n",
    "                print(\"w:\", w)\n",
    "            \n",
    "        if m == 0:\n",
    "            print(\"converged in {} epochs\".format(epochs))\n",
    "            print(\"w:\", w)\n",
    "            break\n",
    "        elif epochs == max_iter:\n",
    "            print(\"Not converging\")\n",
    "            print(\"w:\", w)\n",
    "            break\n",
    "        else:\n",
    "            epochs += 1\n",
    "    \n",
    "    return w"
   ]
  },
  {
   "cell_type": "code",
   "execution_count": 72,
   "metadata": {},
   "outputs": [
    {
     "name": "stdout",
     "output_type": "stream",
     "text": [
      "starting w: [ 1 -1 -1 -1]\n",
      "w: [ 1  1  1 -1]\n",
      "converged in 2 epochs\n",
      "w: [ 1  1  1 -1]\n"
     ]
    }
   ],
   "source": [
    "weights = train(labels)"
   ]
  },
  {
   "cell_type": "markdown",
   "metadata": {},
   "source": [
    "## Et Voila! \n",
    "Our training function learns the weights the exactly correspond to our target pattern (or it's negative)."
   ]
  },
  {
   "cell_type": "code",
   "execution_count": 76,
   "metadata": {},
   "outputs": [
    {
     "name": "stdout",
     "output_type": "stream",
     "text": [
      "[ 1  1  1 -1]\n"
     ]
    },
    {
     "data": {
      "text/plain": [
       "<matplotlib.colorbar.Colorbar at 0x7f16c4962588>"
      ]
     },
     "execution_count": 76,
     "metadata": {},
     "output_type": "execute_result"
    },
    {
     "data": {
      "image/png": "[encoded data removed]",
      "text/plain": [
       "<Figure size 432x288 with 2 Axes>"
      ]
     },
     "metadata": {
      "needs_background": "light"
     },
     "output_type": "display_data"
    }
   ],
   "source": [
    "print(weights)\n",
    "weights_mat = weights.reshape(2,2)\n",
    "\n",
    "# visualize weights\n",
    "fig, ax = plt.subplots()\n",
    "ax.matshow(weights_mat)\n",
    "out_plot = ax.imshow(weights_mat, cmap='Greys', interpolation='none')\n",
    "fig.colorbar(out_plot, ax=ax)"
   ]
  },
  {
   "cell_type": "code",
   "execution_count": null,
   "metadata": {},
   "outputs": [],
   "source": []
  }
 ],
 "metadata": {
  "kernelspec": {
   "display_name": "Qiskit",
   "language": "python",
   "name": "qiskit"
  },
  "language_info": {
   "codemirror_mode": {
    "name": "ipython",
    "version": 3
   },
   "file_extension": ".py",
   "mimetype": "text/x-python",
   "name": "python",
   "nbconvert_exporter": "python",
   "pygments_lexer": "ipython3",
   "version": "3.6.8"
  }
 },
 "nbformat": 4,
 "nbformat_minor": 2
}
