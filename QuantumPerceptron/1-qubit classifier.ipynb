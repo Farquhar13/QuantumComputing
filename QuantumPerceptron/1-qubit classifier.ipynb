{
 "cells": [
  {
   "cell_type": "markdown",
   "metadata": {},
   "source": [
    "# A 1-qubit classifier"
   ]
  },
  {
   "cell_type": "code",
   "execution_count": 1,
   "metadata": {},
   "outputs": [],
   "source": [
    "import math\n",
    "import numpy as np\n",
    "from qiskit import QuantumCircuit, ClassicalRegister, QuantumRegister\n",
    "from qiskit import execute, BasicAer, Aer\n",
    "from qiskit.tools.visualization import plot_histogram, plot_state_city, plot_bloch_multivector"
   ]
  },
  {
   "cell_type": "code",
   "execution_count": 2,
   "metadata": {},
   "outputs": [],
   "source": [
    "def k2vec(k, m=4):\n",
    "    \"\"\"\n",
    "        Parameters: \n",
    "            - k (integer) the integer number for the corresponding binary vector\n",
    "            - m (integer) the length of binary string (needed to distinguish all possibilities)\n",
    "        Returns: \n",
    "            - v (list) a binary vector correspoding to integer k \n",
    "        \n",
    "        Description: By taking a fixed total ordering of binary strings of fixed length we\n",
    "        can associate each binary vector with an integer. The integer is converted to a \n",
    "        binary string which can be used to generate unique vectors.\n",
    "    \"\"\"\n",
    "    \n",
    "    v = -1*np.ones(m)\n",
    "    binary_string = (\"{:0%db}\"%m).format(k) # convert k to an m-digit binary number\n",
    "    #print(binary_string)\n",
    "    v = list(map(lambda v, b : v**int(b), v, binary_string)) \n",
    "    \n",
    "    return v\n",
    "\n",
    "def draw_state_vector(circ):\n",
    "    \"\"\"\n",
    "        Input: \n",
    "            - circ (qiskit.circuit.quantumcircuit.QuantumCircuit) quantum circuit \n",
    "              to be executed\n",
    "        Description:\n",
    "            - Runs the quantum circuit and prints the resulting quantum state vector \n",
    "              and draws the circuit.\n",
    "    \"\"\"\n",
    "    \n",
    "    backend = BasicAer.get_backend('statevector_simulator')\n",
    "    job = execute(circ, backend)\n",
    "    result = job.result()\n",
    "    output_state = result.get_statevector(circ, decimals=3)\n",
    "    print(\"state vector after circuit:\", output_state)\n",
    "    print(circ.draw())"
   ]
  },
  {
   "cell_type": "markdown",
   "metadata": {},
   "source": [
    "## All possible 2 bit boolean vectors with elements {-1, 1}"
   ]
  },
  {
   "cell_type": "code",
   "execution_count": 17,
   "metadata": {},
   "outputs": [
    {
     "name": "stdout",
     "output_type": "stream",
     "text": [
      "[1.0, 1.0]\n",
      "[1.0, -1.0]\n",
      "[-1.0, 1.0]\n",
      "[-1.0, -1.0]\n"
     ]
    }
   ],
   "source": [
    "# generate all 2-bit boolean data\n",
    "data = [k2vec(i,2) for i in range(4)]\n",
    "for d in data:\n",
    "    print(d)"
   ]
  },
  {
   "cell_type": "markdown",
   "metadata": {},
   "source": [
    "## Create a dictionary with the circuits to encode the inputs and weights"
   ]
  },
  {
   "cell_type": "code",
   "execution_count": 4,
   "metadata": {},
   "outputs": [],
   "source": [
    "k_circ = {}"
   ]
  },
  {
   "cell_type": "code",
   "execution_count": 5,
   "metadata": {},
   "outputs": [],
   "source": [
    "# encodes k=0\n",
    "q = QuantumRegister(1, 'q')\n",
    "c = ClassicalRegister(1, 'c')\n",
    "circ = QuantumCircuit(q, c)\n",
    "\n",
    "# add to dictionary\n",
    "k_circ[0] = circ"
   ]
  },
  {
   "cell_type": "code",
   "execution_count": 6,
   "metadata": {},
   "outputs": [
    {
     "name": "stdout",
     "output_type": "stream",
     "text": [
      "i: [1.0, -1.0]\n",
      "state vector after circuit: [1.+0.j 0.+0.j]\n",
      "        ┌───┐\n",
      "q_0: |0>┤ Z ├\n",
      "        └───┘\n",
      " c_0: 0 ═════\n",
      "             \n"
     ]
    }
   ],
   "source": [
    "# encodes k=1\n",
    "q = QuantumRegister(1, 'q')\n",
    "c = ClassicalRegister(1, 'c')\n",
    "circ = QuantumCircuit(q, c)\n",
    "\n",
    "i = k2vec(1, 2)\n",
    "\n",
    "print(\"i:\", i)\n",
    "#circ.h(q[0]) # uncomment to see that this is the correct circuit\n",
    "circ.z(q[0])\n",
    "draw_state_vector(circ)\n",
    "\n",
    "# add to dictionary\n",
    "k_circ[1] = circ"
   ]
  },
  {
   "cell_type": "code",
   "execution_count": 7,
   "metadata": {},
   "outputs": [
    {
     "name": "stdout",
     "output_type": "stream",
     "text": [
      "i: [-1.0, 1.0]\n",
      "state vector after circuit: [0.+0.j 1.+0.j]\n",
      "        ┌───┐┌───┐\n",
      "q_0: |0>┤ Z ├┤ X ├\n",
      "        └───┘└───┘\n",
      " c_0: 0 ══════════\n",
      "                  \n"
     ]
    }
   ],
   "source": [
    "# encodes k=2\n",
    "q = QuantumRegister(1, 'q')\n",
    "c = ClassicalRegister(1, 'c')\n",
    "circ = QuantumCircuit(q, c)\n",
    "\n",
    "i = k2vec(2, 2)\n",
    "\n",
    "print(\"i:\", i)\n",
    "#circ.h(q[0]) # uncomment to see that this is the correct circuit\n",
    "circ.z(q[0])\n",
    "circ.x(q[0])\n",
    "\n",
    "draw_state_vector(circ)\n",
    "\n",
    "\n",
    "# add to dictionary\n",
    "k_circ[2] = circ"
   ]
  },
  {
   "cell_type": "code",
   "execution_count": 8,
   "metadata": {},
   "outputs": [
    {
     "name": "stdout",
     "output_type": "stream",
     "text": [
      "i: [-1.0, -1.0]\n",
      "state vector after circuit: [ 0.+0.j -1.+0.j]\n",
      "        ┌───┐┌───┐┌───┐\n",
      "q_0: |0>┤ Z ├┤ X ├┤ Z ├\n",
      "        └───┘└───┘└───┘\n",
      " c_0: 0 ═══════════════\n",
      "                       \n"
     ]
    }
   ],
   "source": [
    "# encodes k=3\n",
    "q = QuantumRegister(1, 'q')\n",
    "c = ClassicalRegister(1, 'c')\n",
    "circ = QuantumCircuit(q, c)\n",
    "\n",
    "i = k2vec(3, 2)\n",
    "\n",
    "print(\"i:\", i)\n",
    "#circ.h(q[0]) # uncomment to see that this is the correct circuit\n",
    "circ.z(q[0])\n",
    "circ.x(q[0])\n",
    "circ.z(q[0])\n",
    "\n",
    "draw_state_vector(circ)\n",
    "\n",
    "# add to dictionary\n",
    "k_circ[3] = circ"
   ]
  },
  {
   "cell_type": "markdown",
   "metadata": {},
   "source": [
    "## Taking the inner product\n",
    "We do this in a similar fashion to part 2. First create a superposition, then encode the inputs and weights, finally rotate the quantum state vector in such a way that the inner product information is contained in the amplitude for the |1> outcome.\n",
    "<br><br>\n",
    "One change from the previous classifier is that the ancillary qubit is no longer needed, as the inner product infromation is contained in $\\beta$ as defined below, which directly determines the probability of a |1> measurement outcome.\n",
    "\n",
    "$$\\Psi = \\alpha |0> + \\beta |1>$$\n"
   ]
  },
  {
   "cell_type": "code",
   "execution_count": 9,
   "metadata": {},
   "outputs": [],
   "source": [
    "def one_qubit_classifier(k_i, k_w, k_circ_dict):\n",
    "    q = QuantumRegister(1, 'q')\n",
    "    c = ClassicalRegister(1, 'c')\n",
    "    circ = QuantumCircuit(q, c)\n",
    "\n",
    "    circ.h(q[0])\n",
    "    # encode i\n",
    "    circ += k_circ_dict[k_i]\n",
    "    # encode w\n",
    "    circ += k_circ_dict[k_w]\n",
    "    # rotation\n",
    "    circ.h(q[0])\n",
    "    circ.x(q[0])\n",
    "    # measure\n",
    "    circ.measure(q[0],c[0])\n",
    "    \n",
    "    print(circ)\n",
    "    simulator = Aer.get_backend('qasm_simulator')\n",
    "    result = execute(circ, simulator, shots=1024).result()\n",
    "    counts = result.get_counts(circ)\n",
    "    \n",
    "    return counts"
   ]
  },
  {
   "cell_type": "code",
   "execution_count": 10,
   "metadata": {},
   "outputs": [
    {
     "name": "stdout",
     "output_type": "stream",
     "text": [
      "        ┌───┐┌───┐┌───┐┌─┐\n",
      "q_0: |0>┤ H ├┤ H ├┤ X ├┤M├\n",
      "        └───┘└───┘└───┘└╥┘\n",
      " c_0: 0 ════════════════╩═\n",
      "                          \n",
      "        ┌───┐┌───┐┌───┐┌───┐┌─┐\n",
      "q_0: |0>┤ H ├┤ Z ├┤ H ├┤ X ├┤M├\n",
      "        └───┘└───┘└───┘└───┘└╥┘\n",
      " c_0: 0 ═════════════════════╩═\n",
      "                               \n",
      "        ┌───┐┌───┐┌───┐┌───┐┌───┐┌─┐\n",
      "q_0: |0>┤ H ├┤ Z ├┤ X ├┤ H ├┤ X ├┤M├\n",
      "        └───┘└───┘└───┘└───┘└───┘└╥┘\n",
      " c_0: 0 ══════════════════════════╩═\n",
      "                                    \n",
      "        ┌───┐┌───┐┌───┐┌───┐┌───┐┌───┐┌─┐\n",
      "q_0: |0>┤ H ├┤ Z ├┤ X ├┤ Z ├┤ H ├┤ X ├┤M├\n",
      "        └───┘└───┘└───┘└───┘└───┘└───┘└╥┘\n",
      " c_0: 0 ═══════════════════════════════╩═\n",
      "                                         \n",
      "        ┌───┐┌───┐┌───┐┌───┐┌─┐\n",
      "q_0: |0>┤ H ├┤ Z ├┤ H ├┤ X ├┤M├\n",
      "        └───┘└───┘└───┘└───┘└╥┘\n",
      " c_0: 0 ═════════════════════╩═\n",
      "                               \n",
      "        ┌───┐┌───┐┌───┐┌───┐┌───┐┌─┐\n",
      "q_0: |0>┤ H ├┤ Z ├┤ Z ├┤ H ├┤ X ├┤M├\n",
      "        └───┘└───┘└───┘└───┘└───┘└╥┘\n",
      " c_0: 0 ══════════════════════════╩═\n",
      "                                    \n",
      "        ┌───┐┌───┐┌───┐┌───┐┌───┐┌───┐┌─┐\n",
      "q_0: |0>┤ H ├┤ Z ├┤ Z ├┤ X ├┤ H ├┤ X ├┤M├\n",
      "        └───┘└───┘└───┘└───┘└───┘└───┘└╥┘\n",
      " c_0: 0 ═══════════════════════════════╩═\n",
      "                                         \n",
      "        ┌───┐┌───┐┌───┐┌───┐┌───┐┌───┐┌───┐┌─┐\n",
      "q_0: |0>┤ H ├┤ Z ├┤ Z ├┤ X ├┤ Z ├┤ H ├┤ X ├┤M├\n",
      "        └───┘└───┘└───┘└───┘└───┘└───┘└───┘└╥┘\n",
      " c_0: 0 ════════════════════════════════════╩═\n",
      "                                              \n",
      "        ┌───┐┌───┐┌───┐┌───┐┌───┐┌─┐\n",
      "q_0: |0>┤ H ├┤ Z ├┤ X ├┤ H ├┤ X ├┤M├\n",
      "        └───┘└───┘└───┘└───┘└───┘└╥┘\n",
      " c_0: 0 ══════════════════════════╩═\n",
      "                                    \n",
      "        ┌───┐┌───┐┌───┐┌───┐┌───┐┌───┐┌─┐\n",
      "q_0: |0>┤ H ├┤ Z ├┤ X ├┤ Z ├┤ H ├┤ X ├┤M├\n",
      "        └───┘└───┘└───┘└───┘└───┘└───┘└╥┘\n",
      " c_0: 0 ═══════════════════════════════╩═\n",
      "                                         \n",
      "        ┌───┐┌───┐┌───┐┌───┐┌───┐┌───┐┌───┐┌─┐\n",
      "q_0: |0>┤ H ├┤ Z ├┤ X ├┤ Z ├┤ X ├┤ H ├┤ X ├┤M├\n",
      "        └───┘└───┘└───┘└───┘└───┘└───┘└───┘└╥┘\n",
      " c_0: 0 ════════════════════════════════════╩═\n",
      "                                              \n",
      "        ┌───┐┌───┐┌───┐┌───┐┌───┐┌───┐┌───┐┌───┐┌─┐\n",
      "q_0: |0>┤ H ├┤ Z ├┤ X ├┤ Z ├┤ X ├┤ Z ├┤ H ├┤ X ├┤M├\n",
      "        └───┘└───┘└───┘└───┘└───┘└───┘└───┘└───┘└╥┘\n",
      " c_0: 0 ═════════════════════════════════════════╩═\n",
      "                                                   \n",
      "        ┌───┐┌───┐┌───┐┌───┐┌───┐┌───┐┌─┐\n",
      "q_0: |0>┤ H ├┤ Z ├┤ X ├┤ Z ├┤ H ├┤ X ├┤M├\n",
      "        └───┘└───┘└───┘└───┘└───┘└───┘└╥┘\n",
      " c_0: 0 ═══════════════════════════════╩═\n",
      "                                         \n",
      "        ┌───┐┌───┐┌───┐┌───┐┌───┐┌───┐┌───┐┌─┐\n",
      "q_0: |0>┤ H ├┤ Z ├┤ X ├┤ Z ├┤ Z ├┤ H ├┤ X ├┤M├\n",
      "        └───┘└───┘└───┘└───┘└───┘└───┘└───┘└╥┘\n",
      " c_0: 0 ════════════════════════════════════╩═\n",
      "                                              \n",
      "        ┌───┐┌───┐┌───┐┌───┐┌───┐┌───┐┌───┐┌───┐┌─┐\n",
      "q_0: |0>┤ H ├┤ Z ├┤ X ├┤ Z ├┤ Z ├┤ X ├┤ H ├┤ X ├┤M├\n",
      "        └───┘└───┘└───┘└───┘└───┘└───┘└───┘└───┘└╥┘\n",
      " c_0: 0 ═════════════════════════════════════════╩═\n",
      "                                                   \n",
      "        ┌───┐┌───┐┌───┐┌───┐┌───┐┌───┐┌───┐┌───┐┌───┐┌─┐\n",
      "q_0: |0>┤ H ├┤ Z ├┤ X ├┤ Z ├┤ Z ├┤ X ├┤ Z ├┤ H ├┤ X ├┤M├\n",
      "        └───┘└───┘└───┘└───┘└───┘└───┘└───┘└───┘└───┘└╥┘\n",
      " c_0: 0 ══════════════════════════════════════════════╩═\n",
      "                                                        \n"
     ]
    }
   ],
   "source": [
    "outcomes = np.zeros((4,4))\n",
    "\n",
    "for m in range(4):\n",
    "    i = k2vec(m)\n",
    "    for n in range(4):\n",
    "        w =  k2vec(n)\n",
    "        counts  = one_qubit_classifier(m, n, k_circ)\n",
    "        #print(counts)\n",
    "        if len(counts) == 1:\n",
    "            outcomes[m][n] = int([*counts][0]) # unpacking\n",
    "        else:\n",
    "            outcomes[m][n] = counts['1']/float(1024)\n"
   ]
  },
  {
   "cell_type": "code",
   "execution_count": 21,
   "metadata": {},
   "outputs": [
    {
     "name": "stdout",
     "output_type": "stream",
     "text": [
      "[[1. 0. 0. 1.]\n",
      " [0. 1. 1. 0.]\n",
      " [0. 1. 1. 0.]\n",
      " [1. 0. 0. 1.]]\n"
     ]
    },
    {
     "data": {
      "image/png": "[encoded data removed]",
      "text/plain": [
       "<Figure size 432x288 with 2 Axes>"
      ]
     },
     "metadata": {
      "needs_background": "light"
     },
     "output_type": "display_data"
    }
   ],
   "source": [
    "import numpy as np\n",
    "import matplotlib.pyplot as plt\n",
    "\n",
    "fig, ax = plt.subplots()\n",
    "ax.matshow(outcomes, cmap=plt.cm.Blues)\n",
    "ax.set_xlabel(\"weight\")\n",
    "ax.set_ylabel(\"input\")\n",
    "\n",
    "out_plot = ax.imshow(outcomes, cmap='Blues', interpolation='none')\n",
    "fig.colorbar(out_plot, ax=ax)\n",
    "\n",
    "#fig.savefig('one-qubit-perceptron.png')\n",
    "\n",
    "print(outcomes)"
   ]
  },
  {
   "cell_type": "markdown",
   "metadata": {},
   "source": [
    "I think the one qubit example most clearly illustrates the differences between the classical and quantum perceptron algorithm. We see the ability of quantum hardware to encode $m=2^n$ bits of classical information on m qubits. We also see how this algorithm does not make the distinction between a pattern and it's negative due to the insiginficance of global phase ($\\psi = -\\psi$). This is an oddity, but may come in handy in learning the infamous boolean XOR data set."
   ]
  },
  {
   "cell_type": "code",
   "execution_count": null,
   "metadata": {},
   "outputs": [],
   "source": []
  }
 ],
 "metadata": {
  "kernelspec": {
   "display_name": "Qiskit",
   "language": "python",
   "name": "qiskit"
  },
  "language_info": {
   "codemirror_mode": {
    "name": "ipython",
    "version": 3
   },
   "file_extension": ".py",
   "mimetype": "text/x-python",
   "name": "python",
   "nbconvert_exporter": "python",
   "pygments_lexer": "ipython3",
   "version": "3.6.8"
  }
 },
 "nbformat": 4,
 "nbformat_minor": 2
}
