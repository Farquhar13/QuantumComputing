{
 "cells": [
  {
   "cell_type": "markdown",
   "metadata": {},
   "source": [
    "# The brute-force sign flip algorithm for encoding classical inputs in quantum state vectors"
   ]
  },
  {
   "cell_type": "code",
   "execution_count": 1,
   "metadata": {},
   "outputs": [],
   "source": [
    "import numpy as np\n",
    "from qiskit import QuantumCircuit, ClassicalRegister, QuantumRegister\n",
    "from qiskit import execute\n",
    "from qiskit import BasicAer"
   ]
  },
  {
   "cell_type": "markdown",
   "metadata": {},
   "source": [
    "## Generate all possible binary-valued vectors in 4 dimensions (2 qubits)"
   ]
  },
  {
   "cell_type": "markdown",
   "metadata": {},
   "source": [
    "The state vector of N=2 qubits is described by a vector of dimension $m=2^N=4$. With binary amplitudes, this implies $2^{2^N}=16$ distinct states. We will use {1,-1} as binary values.\n",
    "<br><br>\n",
    "A way to think about generating the binary vectors is to assign an interger $k$ to each vector. You can convert the integer $k$ to a four-digit binary string $n_0 n_1 n_2 n_3$ and gernate the vectors as $$\\vec{v} = [(-1)^{n_0}, (-1)^{n_1}, (-1)^{n_2}, (-1)^{n_3}]$$"
   ]
  },
  {
   "cell_type": "code",
   "execution_count": 2,
   "metadata": {},
   "outputs": [],
   "source": [
    "def k2vec(k, m):\n",
    "    \"\"\"\n",
    "        Parameters: \n",
    "            - k (integer) the integer number for the corresponding binary vector\n",
    "            - m (integer) the length of binary string (needed to distinguish all possibilities)\n",
    "        Returns: \n",
    "            - v (list) a binary vector correspoding to integer k \n",
    "        \n",
    "        Description: By taking a fixed total ordering of binary strings of fixed length we can associate\n",
    "        each binary vector with an integer. The integer is converted to a binary string which can be \n",
    "        used to generate unique vectors.\n",
    "    \"\"\"\n",
    "    \n",
    "    v = -1*np.ones(m)\n",
    "    binary_string = (\"{:0%db}\"%m).format(k) # convert k to an m-digit binary number\n",
    "    #print(binary_string)\n",
    "    v = list(map(lambda v, b : v**int(b), v, binary_string)) \n",
    "    \n",
    "    return v"
   ]
  },
  {
   "cell_type": "code",
   "execution_count": 3,
   "metadata": {},
   "outputs": [
    {
     "name": "stdout",
     "output_type": "stream",
     "text": [
      "k= 0   [1.0, 1.0, 1.0, 1.0]\n",
      "k= 1   [1.0, 1.0, 1.0, -1.0]\n",
      "k= 2   [1.0, 1.0, -1.0, 1.0]\n",
      "k= 3   [1.0, 1.0, -1.0, -1.0]\n",
      "k= 4   [1.0, -1.0, 1.0, 1.0]\n",
      "k= 5   [1.0, -1.0, 1.0, -1.0]\n",
      "k= 6   [1.0, -1.0, -1.0, 1.0]\n",
      "k= 7   [1.0, -1.0, -1.0, -1.0]\n",
      "k= 8   [-1.0, 1.0, 1.0, 1.0]\n",
      "k= 9   [-1.0, 1.0, 1.0, -1.0]\n",
      "k= 10   [-1.0, 1.0, -1.0, 1.0]\n",
      "k= 11   [-1.0, 1.0, -1.0, -1.0]\n",
      "k= 12   [-1.0, -1.0, 1.0, 1.0]\n",
      "k= 13   [-1.0, -1.0, 1.0, -1.0]\n",
      "k= 14   [-1.0, -1.0, -1.0, 1.0]\n",
      "k= 15   [-1.0, -1.0, -1.0, -1.0]\n"
     ]
    }
   ],
   "source": [
    "m = 4 # for two qubits\n",
    "vectors = [k2vec(k,m) for k in range(16)]\n",
    "for i, v in enumerate(vectors):\n",
    "    print(\"k=\",i,\" \", v)"
   ]
  },
  {
   "cell_type": "markdown",
   "metadata": {},
   "source": [
    "We can encode this input vector as the quantum state vector $|\\Psi_i>$ such that $$|\\Psi_i> = \\frac{1}{\\sqrt(m)} \\sum_{j=0}^{m-1}i_j|j>$$\n",
    "Where $m$ is the dimensionality of the input, $i_j$ is an element of the classical input vector, and $|j>$ is a computational basis state."
   ]
  },
  {
   "cell_type": "code",
   "execution_count": 4,
   "metadata": {},
   "outputs": [
    {
     "name": "stdout",
     "output_type": "stream",
     "text": [
      "k= 0   [0.5 0.5 0.5 0.5]\n",
      "k= 1   [ 0.5  0.5  0.5 -0.5]\n",
      "k= 2   [ 0.5  0.5 -0.5  0.5]\n",
      "k= 3   [ 0.5  0.5 -0.5 -0.5]\n",
      "k= 4   [ 0.5 -0.5  0.5  0.5]\n",
      "k= 5   [ 0.5 -0.5  0.5 -0.5]\n",
      "k= 6   [ 0.5 -0.5 -0.5  0.5]\n",
      "k= 7   [ 0.5 -0.5 -0.5 -0.5]\n",
      "k= 8   [-0.5  0.5  0.5  0.5]\n",
      "k= 9   [-0.5  0.5  0.5 -0.5]\n",
      "k= 10   [-0.5  0.5 -0.5  0.5]\n",
      "k= 11   [-0.5  0.5 -0.5 -0.5]\n",
      "k= 12   [-0.5 -0.5  0.5  0.5]\n",
      "k= 13   [-0.5 -0.5  0.5 -0.5]\n",
      "k= 14   [-0.5 -0.5 -0.5  0.5]\n",
      "k= 15   [-0.5 -0.5 -0.5 -0.5]\n"
     ]
    }
   ],
   "source": [
    "state_vectors =  [v/np.sqrt(len(v)) for v in vectors]\n",
    "for i, v in enumerate(state_vectors):\n",
    "    print(\"k=\",i,\" \", v)"
   ]
  },
  {
   "cell_type": "markdown",
   "metadata": {},
   "source": [
    "## What quantum circuits will encode these vectors?\n",
    "Think of a quantum circuit as the program. With a quantum computer we don't have access to easy read in/out so we have to change our quantum circuits (change our program) to run with different inputs. It's like assigning values to variables at the top of a program."
   ]
  },
  {
   "cell_type": "code",
   "execution_count": 5,
   "metadata": {},
   "outputs": [],
   "source": [
    "def draw_state_vector(circ):\n",
    "    \"\"\"\n",
    "        Input: \n",
    "            - circ (qiskit.circuit.quantumcircuit.QuantumCircuit) quantum circuit to be executed\n",
    "        Description:\n",
    "            - \n",
    "    \"\"\"\n",
    "    \n",
    "    backend = BasicAer.get_backend('statevector_simulator')\n",
    "    job = execute(circ, backend)\n",
    "    result = job.result()\n",
    "    output_state = result.get_statevector(circ, decimals=3)\n",
    "    print(\"state vector after circuit:\", output_state)\n",
    "    print(circ.draw())"
   ]
  },
  {
   "cell_type": "code",
   "execution_count": 6,
   "metadata": {},
   "outputs": [],
   "source": [
    "# create quantum register and circuit\n",
    "q = QuantumRegister(2, 'q')\n",
    "circ = QuantumCircuit(q)"
   ]
  },
  {
   "cell_type": "markdown",
   "metadata": {},
   "source": [
    "Parallel hadamard gates will produce an equal super position, $|00> \\rightarrow |+>^{\\otimes 2}$\n",
    "<br><br>\n",
    "We will need this at the start of every circuit. It also produces the corresponding state vector for k=0!"
   ]
  },
  {
   "cell_type": "code",
   "execution_count": 7,
   "metadata": {},
   "outputs": [
    {
     "name": "stdout",
     "output_type": "stream",
     "text": [
      "target state vector: [0.5 0.5 0.5 0.5]\n",
      "state vector after circuit: [0.5+0.j 0.5+0.j 0.5+0.j 0.5+0.j]\n",
      "             ┌───┐\n",
      "q_0: |0>─────┤ H ├\n",
      "        ┌───┐└───┘\n",
      "q_1: |0>┤ H ├─────\n",
      "        └───┘     \n"
     ]
    }
   ],
   "source": [
    "k=0\n",
    "print(\"target state vector:\", state_vectors[k])\n",
    "circ.h(q[0])\n",
    "circ.h(q[1])\n",
    "\n",
    "draw_state_vector(circ)"
   ]
  },
  {
   "cell_type": "code",
   "execution_count": 8,
   "metadata": {},
   "outputs": [
    {
     "name": "stdout",
     "output_type": "stream",
     "text": [
      "target state vector: [ 0.5  0.5  0.5 -0.5]\n",
      "state vector after circuit: [ 0.5+0.j  0.5+0.j  0.5+0.j -0.5+0.j]\n",
      "             ┌───┐   \n",
      "q_0: |0>─────┤ H ├─■─\n",
      "        ┌───┐└───┘ │ \n",
      "q_1: |0>┤ H ├──────■─\n",
      "        └───┘        \n"
     ]
    }
   ],
   "source": [
    "k=1\n",
    "print(\"target state vector:\", state_vectors[k])\n",
    "circ1 = QuantumCircuit(q)\n",
    "circ1.cz(q[0], q[1])\n",
    "\n",
    "draw_state_vector(circ + circ1)"
   ]
  },
  {
   "cell_type": "code",
   "execution_count": 9,
   "metadata": {},
   "outputs": [
    {
     "name": "stdout",
     "output_type": "stream",
     "text": [
      "target state vector: [ 0.5  0.5 -0.5  0.5]\n",
      "state vector after circuit: [ 0.5+0.j  0.5+0.j -0.5+0.j  0.5+0.j]\n",
      "             ┌───┐┌───┐   ┌───┐\n",
      "q_0: |0>─────┤ H ├┤ X ├─■─┤ X ├\n",
      "        ┌───┐└───┘└───┘ │ └───┘\n",
      "q_1: |0>┤ H ├───────────■──────\n",
      "        └───┘                  \n"
     ]
    }
   ],
   "source": [
    "k=2\n",
    "print(\"target state vector:\", state_vectors[k])\n",
    "\n",
    "circ2 = QuantumCircuit(q)\n",
    "circ2.x(q[0])\n",
    "circ2.cz(q[0], q[1])\n",
    "circ2.x(q[0])\n",
    "\n",
    "draw_state_vector(circ + circ2)"
   ]
  },
  {
   "cell_type": "code",
   "execution_count": 10,
   "metadata": {},
   "outputs": [
    {
     "name": "stdout",
     "output_type": "stream",
     "text": [
      "target state vector: [ 0.5  0.5 -0.5 -0.5]\n",
      "state vector after circuit: [ 0.5+0.j  0.5+0.j -0.5+0.j -0.5+0.j]\n",
      "             ┌───┐┌───┐   ┌───┐   \n",
      "q_0: |0>─────┤ H ├┤ X ├─■─┤ X ├─■─\n",
      "        ┌───┐└───┘└───┘ │ └───┘ │ \n",
      "q_1: |0>┤ H ├───────────■───────■─\n",
      "        └───┘                     \n"
     ]
    }
   ],
   "source": [
    "k=3\n",
    "print(\"target state vector:\", state_vectors[k])\n",
    "circ3 = QuantumCircuit(q)\n",
    "\n",
    "circ3.x(q[0])\n",
    "circ3.cz(q[0], q[1])\n",
    "circ3.x(q[0])\n",
    "\n",
    "circ3.cz(q[0], q[1])\n",
    "\n",
    "draw_state_vector(circ + circ3)"
   ]
  },
  {
   "cell_type": "code",
   "execution_count": 11,
   "metadata": {},
   "outputs": [
    {
     "name": "stdout",
     "output_type": "stream",
     "text": [
      "target state vector: [ 0.5 -0.5  0.5  0.5]\n",
      "state vector after circuit: [ 0.5+0.j -0.5+0.j  0.5+0.j  0.5+0.j]\n",
      "                  ┌───┐        \n",
      "q_0: |0>──────────┤ H ├─■──────\n",
      "        ┌───┐┌───┐└───┘ │ ┌───┐\n",
      "q_1: |0>┤ H ├┤ X ├──────■─┤ X ├\n",
      "        └───┘└───┘        └───┘\n"
     ]
    }
   ],
   "source": [
    "k=4\n",
    "print(\"target state vector:\", state_vectors[k])\n",
    "\n",
    "circ4 = QuantumCircuit(q)\n",
    "circ4.x(q[1])\n",
    "circ4.cz(q[0], q[1])\n",
    "circ4.x(q[1])\n",
    "\n",
    "draw_state_vector(circ + circ4)"
   ]
  },
  {
   "cell_type": "code",
   "execution_count": 12,
   "metadata": {},
   "outputs": [
    {
     "name": "stdout",
     "output_type": "stream",
     "text": [
      "target state vector: [ 0.5 -0.5  0.5 -0.5]\n",
      "state vector after circuit: [ 0.5+0.j -0.5+0.j  0.5+0.j -0.5+0.j]\n",
      "                  ┌───┐           \n",
      "q_0: |0>──────────┤ H ├─■───────■─\n",
      "        ┌───┐┌───┐└───┘ │ ┌───┐ │ \n",
      "q_1: |0>┤ H ├┤ X ├──────■─┤ X ├─■─\n",
      "        └───┘└───┘        └───┘   \n"
     ]
    }
   ],
   "source": [
    "k=5\n",
    "print(\"target state vector:\", state_vectors[k])\n",
    "circ5 = QuantumCircuit(q)\n",
    "\n",
    "circ5.x(q[1])\n",
    "circ5.cz(q[0], q[1])\n",
    "circ5.x(q[1])\n",
    "\n",
    "circ5.cz(q[0], q[1])\n",
    "\n",
    "draw_state_vector(circ + circ5)"
   ]
  },
  {
   "cell_type": "code",
   "execution_count": 13,
   "metadata": {},
   "outputs": [
    {
     "name": "stdout",
     "output_type": "stream",
     "text": [
      "target state vector: [ 0.5 -0.5 -0.5  0.5]\n",
      "state vector after circuit: [ 0.5+0.j -0.5+0.j -0.5+0.j  0.5+0.j]\n",
      "             ┌───┐┌───┐        ┌───┐        \n",
      "q_0: |0>─────┤ H ├┤ X ├─■──────┤ X ├─■──────\n",
      "        ┌───┐└───┘└───┘ │ ┌───┐└───┘ │ ┌───┐\n",
      "q_1: |0>┤ H ├───────────■─┤ X ├──────■─┤ X ├\n",
      "        └───┘             └───┘        └───┘\n"
     ]
    }
   ],
   "source": [
    "k=6\n",
    "print(\"target state vector:\", state_vectors[k])\n",
    "\n",
    "circ6 = QuantumCircuit(q)\n",
    "circ6.x(q[0])\n",
    "circ6.cz(q[0], q[1])\n",
    "circ6.x(q[0])\n",
    "\n",
    "circ6.x(q[1])\n",
    "circ6.cz(q[0], q[1])\n",
    "circ6.x(q[1])\n",
    "\n",
    "draw_state_vector(circ + circ6)"
   ]
  },
  {
   "cell_type": "code",
   "execution_count": 14,
   "metadata": {},
   "outputs": [
    {
     "name": "stdout",
     "output_type": "stream",
     "text": [
      "target state vector: [ 0.5 -0.5 -0.5 -0.5]\n",
      "state vector after circuit: [ 0.5+0.j -0.5+0.j -0.5+0.j -0.5+0.j]\n",
      "             ┌───┐┌───┐        ┌───┐           \n",
      "q_0: |0>─────┤ H ├┤ X ├─■──────┤ X ├─■───────■─\n",
      "        ┌───┐└───┘└───┘ │ ┌───┐└───┘ │ ┌───┐ │ \n",
      "q_1: |0>┤ H ├───────────■─┤ X ├──────■─┤ X ├─■─\n",
      "        └───┘             └───┘        └───┘   \n"
     ]
    }
   ],
   "source": [
    "k=7\n",
    "print(\"target state vector:\", state_vectors[k])\n",
    "\n",
    "circ7 = QuantumCircuit(q)\n",
    "circ7.x(q[0])\n",
    "circ7.cz(q[0], q[1])\n",
    "circ7.x(q[0])\n",
    "\n",
    "circ7.x(q[1])\n",
    "circ7.cz(q[0], q[1])\n",
    "circ7.x(q[1])\n",
    "\n",
    "circ7.cz(q[0], q[1])\n",
    "\n",
    "draw_state_vector(circ + circ7)"
   ]
  },
  {
   "cell_type": "code",
   "execution_count": 15,
   "metadata": {},
   "outputs": [
    {
     "name": "stdout",
     "output_type": "stream",
     "text": [
      "target state vector: [-0.5  0.5  0.5  0.5]\n",
      "state vector after circuit: [-0.5+0.j  0.5+0.j  0.5+0.j  0.5+0.j]\n",
      "                  ┌───┐┌───┐        ┌───┐\n",
      "q_0: |0>──────────┤ H ├┤ X ├─■──────┤ X ├\n",
      "        ┌───┐┌───┐└───┘└───┘ │ ┌───┐└───┘\n",
      "q_1: |0>┤ H ├┤ X ├───────────■─┤ X ├─────\n",
      "        └───┘└───┘             └───┘     \n"
     ]
    }
   ],
   "source": [
    "k=8\n",
    "print(\"target state vector:\", state_vectors[k])\n",
    "\n",
    "circ8 = QuantumCircuit(q)\n",
    "circ8.x(q[0])\n",
    "circ8.x(q[1])\n",
    "circ8.cz(q[0], q[1])\n",
    "circ8.x(q[0])\n",
    "circ8.x(q[1])\n",
    "\n",
    "draw_state_vector(circ + circ8)"
   ]
  },
  {
   "cell_type": "code",
   "execution_count": 16,
   "metadata": {},
   "outputs": [
    {
     "name": "stdout",
     "output_type": "stream",
     "text": [
      "target state vector: [-0.5  0.5  0.5 -0.5]\n",
      "state vector after circuit: [-0.5+0.j  0.5+0.j  0.5+0.j -0.5+0.j]\n",
      "                  ┌───┐┌───┐        ┌───┐   \n",
      "q_0: |0>──────────┤ H ├┤ X ├─■──────┤ X ├─■─\n",
      "        ┌───┐┌───┐└───┘└───┘ │ ┌───┐└───┘ │ \n",
      "q_1: |0>┤ H ├┤ X ├───────────■─┤ X ├──────■─\n",
      "        └───┘└───┘             └───┘        \n"
     ]
    }
   ],
   "source": [
    "k=9\n",
    "print(\"target state vector:\", state_vectors[k])\n",
    "\n",
    "circ9 = QuantumCircuit(q)\n",
    "\n",
    "# this becomes the \"encode -|00> block\" or k_8\n",
    "circ9.x(q[0])\n",
    "circ9.x(q[1])\n",
    "circ9.cz(q[0], q[1])\n",
    "circ9.x(q[0])\n",
    "circ9.x(q[1])\n",
    "\n",
    "# This is k_1\n",
    "circ9.cz(q[0], q[1])\n",
    "\n",
    "draw_state_vector(circ + circ9)"
   ]
  },
  {
   "cell_type": "markdown",
   "metadata": {},
   "source": [
    "### A pattern emerges\n",
    "Here we begin to repeat circuit combinations. E.g. $k_9 = k_8 + k_1$\n",
    "<br><br>\n",
    "As noted in the block above, the sign flip block for $k_8$ will now be needed for every $8\\leq k < 16$.\n",
    "<br><br>\n",
    "So we may as well just incorporate circ8 in combination with some circ<8 into our future circuits."
   ]
  },
  {
   "cell_type": "code",
   "execution_count": 17,
   "metadata": {},
   "outputs": [
    {
     "name": "stdout",
     "output_type": "stream",
     "text": [
      "target state vector: [-0.5  0.5  0.5 -0.5]\n",
      "state vector after circuit: [-0.5+0.j  0.5+0.j  0.5+0.j -0.5+0.j]\n",
      "                  ┌───┐┌───┐        ┌───┐   \n",
      "q_0: |0>──────────┤ H ├┤ X ├─■──────┤ X ├─■─\n",
      "        ┌───┐┌───┐└───┘└───┘ │ ┌───┐└───┘ │ \n",
      "q_1: |0>┤ H ├┤ X ├───────────■─┤ X ├──────■─\n",
      "        └───┘└───┘             └───┘        \n"
     ]
    }
   ],
   "source": [
    "# alternatively for k=9\n",
    "print(\"target state vector:\", state_vectors[k])\n",
    "\n",
    "circ9a = QuantumCircuit(q)\n",
    "circ9a = circ + circ8 + circ1\n",
    "\n",
    "draw_state_vector(circ9a)"
   ]
  },
  {
   "cell_type": "code",
   "execution_count": 18,
   "metadata": {},
   "outputs": [
    {
     "name": "stdout",
     "output_type": "stream",
     "text": [
      "target state vector: [-0.5  0.5 -0.5  0.5]\n",
      "state vector after circuit: [-0.5+0.j  0.5+0.j -0.5+0.j  0.5+0.j]\n",
      "                  ┌───┐┌───┐        ┌───┐┌───┐   ┌───┐\n",
      "q_0: |0>──────────┤ H ├┤ X ├─■──────┤ X ├┤ X ├─■─┤ X ├\n",
      "        ┌───┐┌───┐└───┘└───┘ │ ┌───┐└───┘└───┘ │ └───┘\n",
      "q_1: |0>┤ H ├┤ X ├───────────■─┤ X ├───────────■──────\n",
      "        └───┘└───┘             └───┘                  \n"
     ]
    }
   ],
   "source": [
    "k=10\n",
    "print(\"target state vector:\", state_vectors[k])\n",
    "\n",
    "circ10 = QuantumCircuit(q)\n",
    "circ10 = circ + circ8 + circ2\n",
    "\n",
    "draw_state_vector(circ10)"
   ]
  },
  {
   "cell_type": "code",
   "execution_count": 19,
   "metadata": {},
   "outputs": [
    {
     "name": "stdout",
     "output_type": "stream",
     "text": [
      "target state vector: [-0.5  0.5 -0.5 -0.5]\n",
      "state vector after circuit: [-0.5+0.j  0.5+0.j -0.5+0.j -0.5+0.j]\n",
      "                  ┌───┐┌───┐        ┌───┐┌───┐   ┌───┐   \n",
      "q_0: |0>──────────┤ H ├┤ X ├─■──────┤ X ├┤ X ├─■─┤ X ├─■─\n",
      "        ┌───┐┌───┐└───┘└───┘ │ ┌───┐└───┘└───┘ │ └───┘ │ \n",
      "q_1: |0>┤ H ├┤ X ├───────────■─┤ X ├───────────■───────■─\n",
      "        └───┘└───┘             └───┘                     \n"
     ]
    }
   ],
   "source": [
    "k=11\n",
    "print(\"target state vector:\", state_vectors[k])\n",
    "\n",
    "circ11 = QuantumCircuit(q)\n",
    "circ11 = QuantumCircuit(q)\n",
    "circ11 = circ + circ8 + circ3\n",
    "\n",
    "draw_state_vector(circ11)"
   ]
  },
  {
   "cell_type": "code",
   "execution_count": 20,
   "metadata": {},
   "outputs": [
    {
     "name": "stdout",
     "output_type": "stream",
     "text": [
      "target state vector: [-0.5 -0.5  0.5  0.5]\n",
      "state vector after circuit: [-0.5+0.j -0.5+0.j  0.5+0.j  0.5+0.j]\n",
      "                  ┌───┐┌───┐             ┌───┐        \n",
      "q_0: |0>──────────┤ H ├┤ X ├─■───────────┤ X ├─■──────\n",
      "        ┌───┐┌───┐└───┘└───┘ │ ┌───┐┌───┐└───┘ │ ┌───┐\n",
      "q_1: |0>┤ H ├┤ X ├───────────■─┤ X ├┤ X ├──────■─┤ X ├\n",
      "        └───┘└───┘             └───┘└───┘        └───┘\n"
     ]
    }
   ],
   "source": [
    "k=12\n",
    "print(\"target state vector:\", state_vectors[k])\n",
    "\n",
    "circ12 = QuantumCircuit(q)\n",
    "circ12 = QuantumCircuit(q)\n",
    "circ12 = circ + circ8 + circ4\n",
    "\n",
    "draw_state_vector(circ12)"
   ]
  },
  {
   "cell_type": "code",
   "execution_count": 21,
   "metadata": {},
   "outputs": [
    {
     "name": "stdout",
     "output_type": "stream",
     "text": [
      "target state vector: [-0.5 -0.5  0.5 -0.5]\n",
      "state vector after circuit: [-0.5+0.j -0.5+0.j  0.5+0.j -0.5+0.j]\n",
      "                  ┌───┐┌───┐             ┌───┐           \n",
      "q_0: |0>──────────┤ H ├┤ X ├─■───────────┤ X ├─■───────■─\n",
      "        ┌───┐┌───┐└───┘└───┘ │ ┌───┐┌───┐└───┘ │ ┌───┐ │ \n",
      "q_1: |0>┤ H ├┤ X ├───────────■─┤ X ├┤ X ├──────■─┤ X ├─■─\n",
      "        └───┘└───┘             └───┘└───┘        └───┘   \n"
     ]
    }
   ],
   "source": [
    "k=13\n",
    "print(\"target state vector:\", state_vectors[k])\n",
    "\n",
    "circ13 = QuantumCircuit(q)\n",
    "circ13 = QuantumCircuit(q)\n",
    "circ13 = circ + circ8 + circ5\n",
    "\n",
    "draw_state_vector(circ13)"
   ]
  },
  {
   "cell_type": "code",
   "execution_count": 22,
   "metadata": {},
   "outputs": [
    {
     "name": "stdout",
     "output_type": "stream",
     "text": [
      "target state vector: [-0.5 -0.5 -0.5  0.5]\n",
      "state vector after circuit: [-0.5+0.j -0.5+0.j -0.5+0.j  0.5+0.j]\n",
      "                  ┌───┐┌───┐        ┌───┐┌───┐        ┌───┐        \n",
      "q_0: |0>──────────┤ H ├┤ X ├─■──────┤ X ├┤ X ├─■──────┤ X ├─■──────\n",
      "        ┌───┐┌───┐└───┘└───┘ │ ┌───┐└───┘└───┘ │ ┌───┐└───┘ │ ┌───┐\n",
      "q_1: |0>┤ H ├┤ X ├───────────■─┤ X ├───────────■─┤ X ├──────■─┤ X ├\n",
      "        └───┘└───┘             └───┘             └───┘        └───┘\n"
     ]
    }
   ],
   "source": [
    "k=14\n",
    "print(\"target state vector:\", state_vectors[k])\n",
    "\n",
    "circ14 = QuantumCircuit(q)\n",
    "circ14 = QuantumCircuit(q)\n",
    "circ14 = circ + circ8 + circ6\n",
    "\n",
    "draw_state_vector(circ14)"
   ]
  },
  {
   "cell_type": "code",
   "execution_count": 23,
   "metadata": {},
   "outputs": [
    {
     "name": "stdout",
     "output_type": "stream",
     "text": [
      "target state vector: [-0.5 -0.5 -0.5 -0.5]\n",
      "state vector after circuit: [-0.5+0.j -0.5+0.j -0.5+0.j -0.5+0.j]\n",
      "                  ┌───┐┌───┐        ┌───┐┌───┐        ┌───┐           \n",
      "q_0: |0>──────────┤ H ├┤ X ├─■──────┤ X ├┤ X ├─■──────┤ X ├─■───────■─\n",
      "        ┌───┐┌───┐└───┘└───┘ │ ┌───┐└───┘└───┘ │ ┌───┐└───┘ │ ┌───┐ │ \n",
      "q_1: |0>┤ H ├┤ X ├───────────■─┤ X ├───────────■─┤ X ├──────■─┤ X ├─■─\n",
      "        └───┘└───┘             └───┘             └───┘        └───┘   \n"
     ]
    }
   ],
   "source": [
    "k=15\n",
    "print(\"target state vector:\", state_vectors[k])\n",
    "\n",
    "circ15 = QuantumCircuit(q)\n",
    "circ15 = QuantumCircuit(q)\n",
    "circ15 = circ + circ8 + circ7\n",
    "\n",
    "draw_state_vector(circ15)"
   ]
  },
  {
   "cell_type": "markdown",
   "metadata": {},
   "source": [
    "## Big O\n",
    "Just by looking at the circuits, we start to get a sense of how the brute-force sign flip algorithm scales. <br>\n",
    "In the worst cases, which correspond to high values of k, the corresponding state vectors require circuits that scale $\\textbf{exponentially}$ in depth (left to right time slices)."
   ]
  },
  {
   "cell_type": "code",
   "execution_count": null,
   "metadata": {},
   "outputs": [],
   "source": []
  }
 ],
 "metadata": {
  "kernelspec": {
   "display_name": "Qiskit",
   "language": "python",
   "name": "qiskit"
  },
  "language_info": {
   "codemirror_mode": {
    "name": "ipython",
    "version": 3
   },
   "file_extension": ".py",
   "mimetype": "text/x-python",
   "name": "python",
   "nbconvert_exporter": "python",
   "pygments_lexer": "ipython3",
   "version": "3.6.8"
  }
 },
 "nbformat": 4,
 "nbformat_minor": 2
}
