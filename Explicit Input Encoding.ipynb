{
 "cells": [
  {
   "cell_type": "code",
   "execution_count": 1,
   "metadata": {},
   "outputs": [],
   "source": [
    "import numpy as np\n",
    "from qiskit import QuantumCircuit, ClassicalRegister, QuantumRegister\n",
    "from qiskit import execute\n",
    "from qiskit import BasicAer"
   ]
  },
  {
   "cell_type": "code",
   "execution_count": 41,
   "metadata": {},
   "outputs": [],
   "source": [
    "def k2vec(n):\n",
    "    i = np.array([-1, -1, -1, -1])\n",
    "    binary_string = \"{:04b}\".format(n)\n",
    "    #print(binary_string)\n",
    "    i = list(map(lambda i, b : i**int(b), i, binary_string)) # showing off ;)\n",
    "    \n",
    "    return i"
   ]
  },
  {
   "cell_type": "markdown",
   "metadata": {},
   "source": [
    "### Generate all possible binary-valued vectors in 4 dimensions (2 qubits)"
   ]
  },
  {
   "cell_type": "markdown",
   "metadata": {},
   "source": [
    "The state vector of N=2 qubits is described by a vector of dimension $m=2^N=4$. With binary amplitudes, this implies $2^{2^N}=16$ distinct states. We will use {1,-1} as binary values."
   ]
  },
  {
   "cell_type": "code",
   "execution_count": 42,
   "metadata": {},
   "outputs": [
    {
     "name": "stdout",
     "output_type": "stream",
     "text": [
      "[1, 1, 1, -1]\n"
     ]
    }
   ],
   "source": [
    "vectors = [k2vec(n) for n in range(16)]\n",
    "print(vectors[1])"
   ]
  },
  {
   "cell_type": "markdown",
   "metadata": {},
   "source": [
    "We can encode this input vector as the state vector $|\\Psi_i>$ such that $$|\\Psi_i> = 1/\\sqrt(m) \\sum_{j=0}^{m-1}i_j|j>$$\n",
    "Where m is the dimensionality of the input. And $|j>$ is a computational basis state."
   ]
  },
  {
   "cell_type": "code",
   "execution_count": 43,
   "metadata": {},
   "outputs": [
    {
     "name": "stdout",
     "output_type": "stream",
     "text": [
      "[ 0.5  0.5  0.5 -0.5]\n"
     ]
    }
   ],
   "source": [
    "state_vectors =  [v/np.sqrt(len(v)) for v in vectors]\n",
    "print(state_vectors[1])"
   ]
  },
  {
   "cell_type": "code",
   "execution_count": 50,
   "metadata": {},
   "outputs": [],
   "source": [
    "def draw_state_vector(circ):\n",
    "    backend = BasicAer.get_backend('statevector_simulator')\n",
    "    job = execute(circ, backend)\n",
    "    result = job.result()\n",
    "    outputstate = result.get_statevector(circ, decimals=3)\n",
    "    print(outputstate)"
   ]
  },
  {
   "cell_type": "code",
   "execution_count": 51,
   "metadata": {},
   "outputs": [],
   "source": [
    "# create quantum register and circuit\n",
    "q = QuantumRegister(2, 'q')\n",
    "circ = QuantumCircuit(q)"
   ]
  },
  {
   "cell_type": "markdown",
   "metadata": {},
   "source": [
    "Parallel hadamard gates will produce an equal super position, $|00> \\rightarrow |+>^{\\otimes 2}$\n",
    "<br><br>\n",
    "We will need this at the start of every circuit. It also produces the corresponding state vector for k=0."
   ]
  },
  {
   "cell_type": "code",
   "execution_count": 46,
   "metadata": {},
   "outputs": [
    {
     "name": "stdout",
     "output_type": "stream",
     "text": [
      "[1, 1, 1, 1]\n",
      "[0.5+0.j 0.5+0.j 0.5+0.j 0.5+0.j]\n"
     ]
    },
    {
     "data": {
      "text/html": [
       "<pre style=\"word-wrap: normal;white-space: pre;line-height: 15px;\">             ┌───┐\n",
       "q_0: |0>─────┤ H ├\n",
       "        ┌───┐└───┘\n",
       "q_1: |0>┤ H ├─────\n",
       "        └───┘     </pre>"
      ],
      "text/plain": [
       "<qiskit.tools.visualization._text.TextDrawing at 0x7fdfbda212b0>"
      ]
     },
     "execution_count": 46,
     "metadata": {},
     "output_type": "execute_result"
    }
   ],
   "source": [
    "# k=0\n",
    "print(vectors[0])\n",
    "circ.h(q[0])\n",
    "circ.h(q[1])\n",
    "\n",
    "draw_state_vector(circ)\n",
    "circ.draw()"
   ]
  },
  {
   "cell_type": "code",
   "execution_count": 49,
   "metadata": {},
   "outputs": [
    {
     "name": "stdout",
     "output_type": "stream",
     "text": [
      "[1, 1, 1, -1]\n",
      "[ 0.5+0.j  0.5+0.j  0.5+0.j -0.5+0.j]\n"
     ]
    },
    {
     "data": {
      "text/html": [
       "<pre style=\"word-wrap: normal;white-space: pre;line-height: 15px;\">             ┌───┐   \n",
       "q_0: |0>─────┤ H ├─■─\n",
       "        ┌───┐└───┘ │ \n",
       "q_1: |0>┤ H ├──────■─\n",
       "        └───┘        </pre>"
      ],
      "text/plain": [
       "<qiskit.tools.visualization._text.TextDrawing at 0x7fdfbd9faef0>"
      ]
     },
     "execution_count": 49,
     "metadata": {},
     "output_type": "execute_result"
    }
   ],
   "source": [
    "# k=1\n",
    "print(vectors[1])\n",
    "circ1 = QuantumCircuit(q)\n",
    "circ1.cz(q[0], q[1])\n",
    "\n",
    "draw_state_vector(circ + circ1)\n",
    "(circ + circ1).draw()"
   ]
  },
  {
   "cell_type": "code",
   "execution_count": 10,
   "metadata": {},
   "outputs": [
    {
     "name": "stdout",
     "output_type": "stream",
     "text": [
      "[1, 1, -1, 1]\n",
      "[ 0.5+0.j  0.5+0.j -0.5+0.j  0.5+0.j]\n"
     ]
    }
   ],
   "source": [
    "# k=2\n",
    "print(vectors[2])\n",
    "\n",
    "circ2 = QuantumCircuit(q)\n",
    "#circ2.h(q[0])\n",
    "#circ2.h(q[1])#\n",
    "\n",
    "circ2.x(q[0])\n",
    "circ2.cz(q[0], q[1])\n",
    "circ2.x(q[0])\n",
    "\n",
    "draw_state_vector(circ + circ2)"
   ]
  },
  {
   "cell_type": "code",
   "execution_count": 11,
   "metadata": {},
   "outputs": [
    {
     "name": "stdout",
     "output_type": "stream",
     "text": [
      "[1, 1, -1, -1]\n",
      "[ 0.5+0.j  0.5+0.j -0.5+0.j -0.5+0.j]\n"
     ]
    }
   ],
   "source": [
    "# k=3\n",
    "print(vectors[3])\n",
    "circ3 = QuantumCircuit(q)\n",
    "\n",
    "circ3.x(q[0])\n",
    "circ3.cz(q[0], q[1])\n",
    "circ3.x(q[0])\n",
    "\n",
    "circ3.cz(q[0], q[1])\n",
    "\n",
    "draw_state_vector(circ + circ3)"
   ]
  },
  {
   "cell_type": "code",
   "execution_count": 12,
   "metadata": {},
   "outputs": [
    {
     "name": "stdout",
     "output_type": "stream",
     "text": [
      "[1, -1, 1, 1]\n",
      "[ 0.5+0.j -0.5+0.j  0.5+0.j  0.5+0.j]\n"
     ]
    }
   ],
   "source": [
    "# k=4\n",
    "print(vectors[4])\n",
    "circ4 = QuantumCircuit(q)\n",
    "circ4.x(q[1])\n",
    "circ4.cz(q[0], q[1])\n",
    "circ4.x(q[1])\n",
    "\n",
    "draw_state_vector(circ + circ4)"
   ]
  },
  {
   "cell_type": "code",
   "execution_count": 13,
   "metadata": {},
   "outputs": [
    {
     "name": "stdout",
     "output_type": "stream",
     "text": [
      "[1, -1, 1, -1]\n",
      "[ 0.5+0.j -0.5+0.j  0.5+0.j -0.5+0.j]\n"
     ]
    }
   ],
   "source": [
    "# k=5\n",
    "print(vectors[5])\n",
    "circ5 = QuantumCircuit(q)\n",
    "\n",
    "circ5.x(q[1])\n",
    "circ5.cz(q[0], q[1])\n",
    "circ5.x(q[1])\n",
    "\n",
    "circ5.cz(q[0], q[1])\n",
    "\n",
    "draw_state_vector(circ + circ5)"
   ]
  },
  {
   "cell_type": "code",
   "execution_count": 14,
   "metadata": {},
   "outputs": [
    {
     "name": "stdout",
     "output_type": "stream",
     "text": [
      "[1, -1, -1, 1]\n",
      "[ 0.5+0.j -0.5+0.j -0.5+0.j  0.5+0.j]\n"
     ]
    }
   ],
   "source": [
    "# k=6\n",
    "print(vectors[6])\n",
    "circ6 = QuantumCircuit(q)\n",
    "circ6.x(q[0])\n",
    "circ6.cz(q[0], q[1])\n",
    "circ6.x(q[0])\n",
    "\n",
    "circ6.x(q[1])\n",
    "circ6.cz(q[0], q[1])\n",
    "circ6.x(q[1])\n",
    "\n",
    "draw_state_vector(circ + circ6)"
   ]
  },
  {
   "cell_type": "code",
   "execution_count": 15,
   "metadata": {},
   "outputs": [
    {
     "name": "stdout",
     "output_type": "stream",
     "text": [
      "[1, -1, -1, -1]\n",
      "[ 0.5+0.j -0.5+0.j -0.5+0.j -0.5+0.j]\n"
     ]
    }
   ],
   "source": [
    "# k=7\n",
    "print(vectors[7])\n",
    "circ7 = QuantumCircuit(q)\n",
    "circ7.x(q[0])\n",
    "circ7.cz(q[0], q[1])\n",
    "circ7.x(q[0])\n",
    "\n",
    "circ7.x(q[1])\n",
    "circ7.cz(q[0], q[1])\n",
    "circ7.x(q[1])\n",
    "\n",
    "circ7.cz(q[0], q[1])\n",
    "\n",
    "draw_state_vector(circ + circ7)"
   ]
  },
  {
   "cell_type": "code",
   "execution_count": 16,
   "metadata": {},
   "outputs": [
    {
     "name": "stdout",
     "output_type": "stream",
     "text": [
      "[-1, 1, 1, 1]\n",
      "[-0.5+0.j  0.5+0.j  0.5+0.j  0.5+0.j]\n"
     ]
    }
   ],
   "source": [
    "# k=8\n",
    "print(k2vec(8))\n",
    "\n",
    "circ8 = QuantumCircuit(q)\n",
    "circ8.x(q[0])\n",
    "circ8.x(q[1])\n",
    "circ8.cz(q[0], q[1])\n",
    "circ8.x(q[0])\n",
    "circ8.x(q[1])\n",
    "\n",
    "draw_state_vector(circ + circ8)"
   ]
  },
  {
   "cell_type": "code",
   "execution_count": 17,
   "metadata": {},
   "outputs": [
    {
     "name": "stdout",
     "output_type": "stream",
     "text": [
      "[-1, 1, 1, -1]\n",
      "[-0.5+0.j  0.5+0.j  0.5+0.j -0.5+0.j]\n"
     ]
    }
   ],
   "source": [
    "# k=9, here we begin to repeat. K=9 + K=1\n",
    "print(k2vec(9))\n",
    "\n",
    "circ9 = QuantumCircuit(q)\n",
    "\n",
    "# this becomes the \"encode -|00> block\"\n",
    "circ9.x(q[0])\n",
    "circ9.x(q[1])\n",
    "circ9.cz(q[0], q[1])\n",
    "circ9.x(q[0])\n",
    "circ9.x(q[1])\n",
    "\n",
    "circ9.cz(q[0], q[1])\n",
    "\n",
    "draw_state_vector(circ + circ9)"
   ]
  },
  {
   "cell_type": "markdown",
   "metadata": {},
   "source": [
    "As noted in the block above, the sign flip block will for k=8 will now be needed for every $8\\leq k < 16$.\n",
    "<br><br>\n",
    "So we may as well just incorporate circ8 into our future circuits."
   ]
  },
  {
   "cell_type": "code",
   "execution_count": 18,
   "metadata": {},
   "outputs": [
    {
     "name": "stdout",
     "output_type": "stream",
     "text": [
      "[-1, 1, 1, -1]\n",
      "[-0.5+0.j  0.5+0.j  0.5+0.j -0.5+0.j]\n"
     ]
    }
   ],
   "source": [
    "# alternatively for k=9\n",
    "print(vectors[9])\n",
    "circ9a = QuantumCircuit(q)\n",
    "circ9a = circ + circ8 + circ1\n",
    "draw_state_vector(circ9a)"
   ]
  },
  {
   "cell_type": "code",
   "execution_count": 19,
   "metadata": {},
   "outputs": [
    {
     "name": "stdout",
     "output_type": "stream",
     "text": [
      "[-1, 1, -1, 1]\n",
      "[-0.5+0.j  0.5+0.j -0.5+0.j  0.5+0.j]\n"
     ]
    }
   ],
   "source": [
    "# k=10\n",
    "print(k2vec(10))\n",
    "\n",
    "circ10 = QuantumCircuit(q)\n",
    "circ10 = circ + circ8 + circ2\n",
    "\n",
    "draw_state_vector(circ10)"
   ]
  },
  {
   "cell_type": "code",
   "execution_count": 20,
   "metadata": {},
   "outputs": [
    {
     "name": "stdout",
     "output_type": "stream",
     "text": [
      "[-1, 1, -1, -1]\n",
      "[-0.5+0.j  0.5+0.j -0.5+0.j -0.5+0.j]\n"
     ]
    }
   ],
   "source": [
    "# k=11\n",
    "print(k2vec(11))\n",
    "\n",
    "circ11 = QuantumCircuit(q)\n",
    "circ11 = QuantumCircuit(q)\n",
    "circ11 = circ + circ8 + circ3\n",
    "\n",
    "draw_state_vector(circ11)"
   ]
  },
  {
   "cell_type": "code",
   "execution_count": 21,
   "metadata": {},
   "outputs": [
    {
     "name": "stdout",
     "output_type": "stream",
     "text": [
      "[-1, -1, 1, 1]\n",
      "[-0.5+0.j -0.5+0.j  0.5+0.j  0.5+0.j]\n"
     ]
    }
   ],
   "source": [
    "# k=12\n",
    "print(k2vec(12))\n",
    "\n",
    "circ12 = QuantumCircuit(q)\n",
    "circ12 = QuantumCircuit(q)\n",
    "circ12 = circ + circ8 + circ4\n",
    "\n",
    "draw_state_vector(circ12)"
   ]
  },
  {
   "cell_type": "code",
   "execution_count": 22,
   "metadata": {},
   "outputs": [
    {
     "name": "stdout",
     "output_type": "stream",
     "text": [
      "[-1, -1, 1, -1]\n",
      "[-0.5+0.j -0.5+0.j  0.5+0.j -0.5+0.j]\n"
     ]
    }
   ],
   "source": [
    "# k=13\n",
    "print(k2vec(13))\n",
    "\n",
    "circ13 = QuantumCircuit(q)\n",
    "circ13 = QuantumCircuit(q)\n",
    "circ13 = circ + circ8 + circ5\n",
    "\n",
    "draw_state_vector(circ13)"
   ]
  },
  {
   "cell_type": "code",
   "execution_count": 23,
   "metadata": {},
   "outputs": [
    {
     "name": "stdout",
     "output_type": "stream",
     "text": [
      "[-1, -1, -1, 1]\n",
      "[-0.5+0.j -0.5+0.j -0.5+0.j  0.5+0.j]\n"
     ]
    }
   ],
   "source": [
    "# k=14\n",
    "print(k2vec(14))\n",
    "\n",
    "circ14 = QuantumCircuit(q)\n",
    "circ14 = QuantumCircuit(q)\n",
    "circ14 = circ + circ8 + circ6\n",
    "\n",
    "draw_state_vector(circ14)"
   ]
  },
  {
   "cell_type": "code",
   "execution_count": 24,
   "metadata": {},
   "outputs": [
    {
     "name": "stdout",
     "output_type": "stream",
     "text": [
      "[-1, -1, -1, -1]\n",
      "[-0.5+0.j -0.5+0.j -0.5+0.j -0.5+0.j]\n"
     ]
    }
   ],
   "source": [
    "# k=15\n",
    "print(k2vec(15))\n",
    "\n",
    "circ15 = QuantumCircuit(q)\n",
    "circ15 = QuantumCircuit(q)\n",
    "circ15 = circ + circ8 + circ7\n",
    "\n",
    "draw_state_vector(circ15)"
   ]
  },
  {
   "cell_type": "code",
   "execution_count": null,
   "metadata": {},
   "outputs": [],
   "source": []
  }
 ],
 "metadata": {
  "kernelspec": {
   "display_name": "Qiskit",
   "language": "python",
   "name": "qiskit"
  },
  "language_info": {
   "codemirror_mode": {
    "name": "ipython",
    "version": 3
   },
   "file_extension": ".py",
   "mimetype": "text/x-python",
   "name": "python",
   "nbconvert_exporter": "python",
   "pygments_lexer": "ipython3",
   "version": "3.6.8"
  }
 },
 "nbformat": 4,
 "nbformat_minor": 2
}
